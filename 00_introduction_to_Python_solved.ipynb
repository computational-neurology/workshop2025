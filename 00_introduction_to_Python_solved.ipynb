{
  "cells": [
    {
      "cell_type": "markdown",
      "metadata": {
        "colab_type": "text",
        "id": "view-in-github"
      },
      "source": [
        "<a href=\"https://colab.research.google.com/github/computational-neurology/workshop2024/blob/main/00_introduction_to_Python.ipynb\" target=\"_parent\"><img src=\"https://colab.research.google.com/assets/colab-badge.svg\" alt=\"Open In Colab\"/></a>"
      ]
    },
    {
      "cell_type": "markdown",
      "metadata": {
        "id": "o8d-nq83hMMX"
      },
      "source": [
        "# Super crash course in Python"
      ]
    },
    {
      "cell_type": "code",
      "execution_count": 33,
      "metadata": {
        "id": "5RkVng7xhYG7"
      },
      "outputs": [
        {
          "name": "stdout",
          "output_type": "stream",
          "text": [
            "Requirement already satisfied: numpy in /home/riccardo/anaconda3/envs/neurolib/lib/python3.10/site-packages (1.24.3)\n",
            "Requirement already satisfied: pandas in /home/riccardo/anaconda3/envs/neurolib/lib/python3.10/site-packages (1.5.3)\n",
            "Requirement already satisfied: pytz>=2020.1 in /home/riccardo/anaconda3/envs/neurolib/lib/python3.10/site-packages (from pandas) (2023.3)\n",
            "Requirement already satisfied: numpy>=1.21.0 in /home/riccardo/anaconda3/envs/neurolib/lib/python3.10/site-packages (from pandas) (1.24.3)\n",
            "Requirement already satisfied: python-dateutil>=2.8.1 in /home/riccardo/anaconda3/envs/neurolib/lib/python3.10/site-packages (from pandas) (2.8.2)\n",
            "Requirement already satisfied: six>=1.5 in /home/riccardo/anaconda3/envs/neurolib/lib/python3.10/site-packages (from python-dateutil>=2.8.1->pandas) (1.16.0)\n",
            "Requirement already satisfied: matplotlib in /home/riccardo/anaconda3/envs/neurolib/lib/python3.10/site-packages (3.7.1)\n",
            "Requirement already satisfied: python-dateutil>=2.7 in /home/riccardo/anaconda3/envs/neurolib/lib/python3.10/site-packages (from matplotlib) (2.8.2)\n",
            "Requirement already satisfied: cycler>=0.10 in /home/riccardo/anaconda3/envs/neurolib/lib/python3.10/site-packages (from matplotlib) (0.11.0)\n",
            "Requirement already satisfied: packaging>=20.0 in /home/riccardo/anaconda3/envs/neurolib/lib/python3.10/site-packages (from matplotlib) (23.1)\n",
            "Requirement already satisfied: numpy>=1.20 in /home/riccardo/anaconda3/envs/neurolib/lib/python3.10/site-packages (from matplotlib) (1.24.3)\n",
            "Requirement already satisfied: pillow>=6.2.0 in /home/riccardo/anaconda3/envs/neurolib/lib/python3.10/site-packages (from matplotlib) (9.5.0)\n",
            "Requirement already satisfied: pyparsing>=2.3.1 in /home/riccardo/anaconda3/envs/neurolib/lib/python3.10/site-packages (from matplotlib) (3.0.9)\n",
            "Requirement already satisfied: contourpy>=1.0.1 in /home/riccardo/anaconda3/envs/neurolib/lib/python3.10/site-packages (from matplotlib) (1.0.7)\n",
            "Requirement already satisfied: fonttools>=4.22.0 in /home/riccardo/anaconda3/envs/neurolib/lib/python3.10/site-packages (from matplotlib) (4.39.4)\n",
            "Requirement already satisfied: kiwisolver>=1.0.1 in /home/riccardo/anaconda3/envs/neurolib/lib/python3.10/site-packages (from matplotlib) (1.4.4)\n",
            "Requirement already satisfied: six>=1.5 in /home/riccardo/anaconda3/envs/neurolib/lib/python3.10/site-packages (from python-dateutil>=2.7->matplotlib) (1.16.0)\n"
          ]
        }
      ],
      "source": [
        "! pip install numpy\n",
        "! pip install pandas\n",
        "! pip install matplotlib"
      ]
    },
    {
      "cell_type": "markdown",
      "metadata": {},
      "source": [
        "# A preliminary note on the use of LLMs"
      ]
    },
    {
      "cell_type": "markdown",
      "metadata": {},
      "source": [
        "All the exercises are ungraded and are just there for you to try things out and learn. You can of course copy/paste them into an LLM and solve them, but it won't be helpful for you at this stage. You can of course ask LLM to explain in greater depths specific commands, but still try to write them yourself in the exercises! LLMs will become useful to write code during your programming journey, but you first need to understand the core concepts of Python, which will take quite some time! So, please try the exercises and make as many mistakes as possible! The cool thing about programming is that you can just try things out until they work, which you can see immediately!"
      ]
    },
    {
      "cell_type": "markdown",
      "metadata": {
        "id": "PRTztZFGiOr-"
      },
      "source": [
        "## Part 1 Functions\n",
        "Functions are reusable blocks of code that perform a specific task. Functions help in organizing code, making it more readable and reusable. You can define a function using the def keyword.\n",
        "The triple \"\"\" allow you to write documentation for the function. It is crucial to remember to comment your functions so that several months from now you will remember what each function does. This will also greatly help other people trying to read your code."
      ]
    },
    {
      "cell_type": "code",
      "execution_count": 34,
      "metadata": {
        "id": "xK7h7gNTiP36"
      },
      "outputs": [
        {
          "name": "stdout",
          "output_type": "stream",
          "text": [
            "Hello, Alice!\n"
          ]
        }
      ],
      "source": [
        "# Define a function to greet a person\n",
        "\n",
        "def greet(name):\n",
        "    \"\"\"\n",
        "    Generates a greeting message for the specified name.\n",
        "\n",
        "    Parameters:\n",
        "        name (str): The name of the person to greet.\n",
        "\n",
        "    Returns:\n",
        "        str: A greeting message in the format \"Hello, {name}!\".\n",
        "    \"\"\"\n",
        "    return f\"Hello, {name}!\"\n",
        "\n",
        "# Call the function\n",
        "print(greet(\"Alice\"))  # Output: Hello, Alice!"
      ]
    },
    {
      "cell_type": "markdown",
      "metadata": {
        "id": "N69f2BFziRWH"
      },
      "source": [
        "If you don't know what a function does, ask for help! This works also for functions of packages (e.g., Numpy, see later)"
      ]
    },
    {
      "cell_type": "code",
      "execution_count": 35,
      "metadata": {
        "id": "2zgh46XAiSXF"
      },
      "outputs": [
        {
          "name": "stdout",
          "output_type": "stream",
          "text": [
            "Help on function greet in module __main__:\n",
            "\n",
            "greet(name)\n",
            "    Generates a greeting message for the specified name.\n",
            "    \n",
            "    Parameters:\n",
            "        name (str): The name of the person to greet.\n",
            "    \n",
            "    Returns:\n",
            "        str: A greeting message in the format \"Hello, {name}!\".\n",
            "\n"
          ]
        }
      ],
      "source": [
        "help(greet)"
      ]
    },
    {
      "cell_type": "markdown",
      "metadata": {
        "id": "rymi-PuaiTqG"
      },
      "source": [
        "<div class=\"alert alert-block alert-success\">\n",
        "<b>Exercise </b><p>\n",
        "Write a function called \"square\" that simply squares a number (square in Python is: n**power, i.e., 9**2). This function should take as input a number, n, and return its squared value.\n",
        "<p>\n",
        "\n",
        "<p>\n",
        " -End of exercise-\n",
        "    </div>"
      ]
    },
    {
      "cell_type": "code",
      "execution_count": 36,
      "metadata": {
        "id": "CvIhNjHqiU-Z"
      },
      "outputs": [
        {
          "name": "stdout",
          "output_type": "stream",
          "text": [
            "25\n"
          ]
        }
      ],
      "source": [
        "# Your code here. Uncomment.\n",
        "\n",
        "def square(n):\n",
        "    return n**2\n",
        "\n",
        "result = square(5)\n",
        "print(result)  # Output: 25\n"
      ]
    },
    {
      "cell_type": "markdown",
      "metadata": {
        "id": "9HUbHV1giWdt"
      },
      "source": [
        "<div class=\"alert alert-block alert-success\">\n",
        "<b>Exercise Bonus </b><p>\n",
        "Modify the previous function in order to calculate the nth power of a number. Hint, the second function should accept 2 arguments, n and power.\n",
        "<p>\n",
        "\n",
        "<p>\n",
        " -End of exercise-\n",
        "    </div>"
      ]
    },
    {
      "cell_type": "code",
      "execution_count": 37,
      "metadata": {},
      "outputs": [
        {
          "name": "stdout",
          "output_type": "stream",
          "text": [
            "125\n"
          ]
        }
      ],
      "source": [
        "def square2(n, t):\n",
        "    return n**t\n",
        "\n",
        "result = square2(5, 3)\n",
        "print(result)  # Output: 125"
      ]
    },
    {
      "cell_type": "markdown",
      "metadata": {
        "id": "O1oqfSe0igP7"
      },
      "source": [
        "## Part 2: Introduction to NumPy\n",
        "NumPy is a powerful library for numerical computing in Python. After having imported numpy as np, you can start calling its methods. For example Numpy allows you to create vectors and store numerical values in them. Vectorization dramatically increases the speed of many math operations!"
      ]
    },
    {
      "cell_type": "code",
      "execution_count": 38,
      "metadata": {
        "id": "AAzX0BtvihlK"
      },
      "outputs": [
        {
          "name": "stdout",
          "output_type": "stream",
          "text": [
            "[1 2 3 4 5]\n"
          ]
        }
      ],
      "source": [
        "import numpy as np\n",
        "# Creating a NumPy array\n",
        "list_n = [1, 2, 3, 4, 5]\n",
        "array = np.array(list_n)\n",
        "print(array)"
      ]
    },
    {
      "cell_type": "markdown",
      "metadata": {},
      "source": [
        "\n",
        "<div class=\"alert alert-block alert-success\">\n",
        "<b>Exercise Bonus </b><p>\n",
        "Other important numpy commands are np.arange() and np.linspace. What are they useful for? What is the difference? Uncomment the following cell and try to figure out..\n",
        "\n",
        "<p>\n",
        "\n",
        "<p>\n",
        " -End of exercise-\n",
        "    </div>\n",
        "\n"
      ]
    },
    {
      "cell_type": "code",
      "execution_count": 39,
      "metadata": {},
      "outputs": [],
      "source": [
        "range = np.arange(0, 100, 1)\n",
        "linspace = np.linspace(0, 100, 101)"
      ]
    },
    {
      "cell_type": "code",
      "execution_count": 40,
      "metadata": {},
      "outputs": [
        {
          "name": "stdout",
          "output_type": "stream",
          "text": [
            "[ 0  1  2  3  4  5  6  7  8  9 10 11 12 13 14 15 16 17 18 19 20 21 22 23\n",
            " 24 25 26 27 28 29 30 31 32 33 34 35 36 37 38 39 40 41 42 43 44 45 46 47\n",
            " 48 49 50 51 52 53 54 55 56 57 58 59 60 61 62 63 64 65 66 67 68 69 70 71\n",
            " 72 73 74 75 76 77 78 79 80 81 82 83 84 85 86 87 88 89 90 91 92 93 94 95\n",
            " 96 97 98 99]\n",
            "[  0.   1.   2.   3.   4.   5.   6.   7.   8.   9.  10.  11.  12.  13.\n",
            "  14.  15.  16.  17.  18.  19.  20.  21.  22.  23.  24.  25.  26.  27.\n",
            "  28.  29.  30.  31.  32.  33.  34.  35.  36.  37.  38.  39.  40.  41.\n",
            "  42.  43.  44.  45.  46.  47.  48.  49.  50.  51.  52.  53.  54.  55.\n",
            "  56.  57.  58.  59.  60.  61.  62.  63.  64.  65.  66.  67.  68.  69.\n",
            "  70.  71.  72.  73.  74.  75.  76.  77.  78.  79.  80.  81.  82.  83.\n",
            "  84.  85.  86.  87.  88.  89.  90.  91.  92.  93.  94.  95.  96.  97.\n",
            "  98.  99. 100.]\n"
          ]
        }
      ],
      "source": [
        "print(range)\n",
        "print(linspace)"
      ]
    },
    {
      "cell_type": "markdown",
      "metadata": {},
      "source": [
        "What happens if you perform addition or multiplication between a scalar and a numpy array?"
      ]
    },
    {
      "cell_type": "code",
      "execution_count": 41,
      "metadata": {
        "id": "KenY36P0iiln"
      },
      "outputs": [
        {
          "name": "stdout",
          "output_type": "stream",
          "text": [
            "[11 12 13 14 15]\n",
            "[ 2  4  6  8 10]\n"
          ]
        }
      ],
      "source": [
        "# Performing operations\n",
        "print(array + 10)\n",
        "print(array * 2)"
      ]
    },
    {
      "cell_type": "markdown",
      "metadata": {
        "id": "nfyMknVIij5T"
      },
      "source": [
        "You can perform many interesting operations with numpy!"
      ]
    },
    {
      "cell_type": "code",
      "execution_count": 42,
      "metadata": {
        "id": "_8BU_mnDik4k"
      },
      "outputs": [
        {
          "name": "stdout",
          "output_type": "stream",
          "text": [
            "The sum of all elements of the array is: 15\n"
          ]
        }
      ],
      "source": [
        "# Sum of the elements of an array\n",
        "s = array.sum()\n",
        "print(f\"The sum of all elements of the array is: {s}\")"
      ]
    },
    {
      "cell_type": "code",
      "execution_count": 43,
      "metadata": {
        "id": "0UwEMms3il2p"
      },
      "outputs": [
        {
          "name": "stdout",
          "output_type": "stream",
          "text": [
            "The mean is: 3.0\n"
          ]
        }
      ],
      "source": [
        "# Mean of the elements of an array\n",
        "m = array.mean()\n",
        "print(f\"The mean is: {m}\")"
      ]
    },
    {
      "cell_type": "code",
      "execution_count": 44,
      "metadata": {
        "id": "nkPwDeKgim6m"
      },
      "outputs": [
        {
          "name": "stdout",
          "output_type": "stream",
          "text": [
            "The std. dev. is: 1.41\n"
          ]
        }
      ],
      "source": [
        "# Std. deviation of the elements of an array\n",
        "std = array.std()\n",
        "print(f\"The std. dev. is: {std:.2f}\")"
      ]
    },
    {
      "cell_type": "markdown",
      "metadata": {},
      "source": [
        "Just as with lists, you can also change elements of a numpy array using indexing:"
      ]
    },
    {
      "cell_type": "code",
      "execution_count": 45,
      "metadata": {},
      "outputs": [
        {
          "name": "stdout",
          "output_type": "stream",
          "text": [
            "[1 2 3 4 5]\n",
            "[100   2   3   4   5]\n"
          ]
        }
      ],
      "source": [
        "print(array)\n",
        "array[0] = 100\n",
        "print(array)"
      ]
    },
    {
      "cell_type": "markdown",
      "metadata": {
        "id": "J9EvEENFin_X"
      },
      "source": [
        "<div class=\"alert alert-block alert-success\">\n",
        "<b>Exercise </b><p>\n",
        "Create an array containing the values [1, 5, 7] and take its mean using Numpy.\n",
        "<p>\n",
        "\n",
        "<p>\n",
        " -End of exercise-\n",
        "    </div>"
      ]
    },
    {
      "cell_type": "code",
      "execution_count": 46,
      "metadata": {},
      "outputs": [
        {
          "name": "stdout",
          "output_type": "stream",
          "text": [
            "4.333333333333333\n"
          ]
        }
      ],
      "source": [
        "# Your code here:\n",
        "arr = np.array([1,5,7]).mean()\n",
        "print(arr)"
      ]
    },
    {
      "cell_type": "markdown",
      "metadata": {},
      "source": [
        "<div class=\"alert alert-block alert-success\">\n",
        "<b>Exercise </b><p>\n",
        "\n",
        "\n",
        "- Import NumPy and create a 1D array representing a simple time series of 10 time points with values increasing from 1 to 10.\n",
        "\n",
        "\n",
        "- Create a 2D NumPy array (5×5) called fc with random values between 0 and 1 (np.random.random), representing a connectivity matrix.\n",
        "\n",
        "\n",
        "- Compute and print the mean and standard deviation of the matrix.\n",
        "<p>\n",
        "\n",
        "<p>\n",
        " -End of exercise-\n",
        "    </div>\n"
      ]
    },
    {
      "cell_type": "code",
      "execution_count": 47,
      "metadata": {},
      "outputs": [
        {
          "name": "stdout",
          "output_type": "stream",
          "text": [
            "0.5151140482591399\n",
            "0.3304211962485921\n"
          ]
        }
      ],
      "source": [
        "# Your code here:\n",
        "ts = np.arange(1, 11, 1)\n",
        "fc = np.random.random([5,5]) # this is just a place-holder.\n",
        "print(fc.mean())\n",
        "print(fc.std())"
      ]
    },
    {
      "cell_type": "markdown",
      "metadata": {
        "id": "ZvxiXEx3ix3R"
      },
      "source": [
        "## Part 3: Introduction to Matplotlib\n",
        "\n",
        "Matplotlib is a plotting library for creating data visualizations. We will use it to plot the results of our simulations.\n",
        "You can plot all kinds of visualizations types, from lines to histograms to barcharts ... to functional connectivity matrices."
      ]
    },
    {
      "cell_type": "code",
      "execution_count": 48,
      "metadata": {
        "id": "rQmPDTr0izBk"
      },
      "outputs": [
        {
          "data": {
            "image/png": "[encoded data removed]",
            "text/plain": [
              "<Figure size 640x480 with 1 Axes>"
            ]
          },
          "metadata": {},
          "output_type": "display_data"
        }
      ],
      "source": [
        "import matplotlib.pyplot as plt\n",
        "\n",
        "# Creating a simple plot\n",
        "plt.plot([1, 2, 3, 4], [1, 4, 9, 16])\n",
        "plt.xlabel(\"X-axis\")\n",
        "plt.ylabel(\"Y-axis\")\n",
        "plt.title(\"Simple Plot\")\n",
        "plt.show()"
      ]
    },
    {
      "cell_type": "code",
      "execution_count": 49,
      "metadata": {
        "id": "VO1XyAR3i0LP"
      },
      "outputs": [
        {
          "data": {
            "text/plain": [
              "<matplotlib.image.AxesImage at 0x728664151090>"
            ]
          },
          "execution_count": 49,
          "metadata": {},
          "output_type": "execute_result"
        },
        {
          "data": {
            "image/png": "[encoded data removed]",
            "text/plain": [
              "<Figure size 640x480 with 1 Axes>"
            ]
          },
          "metadata": {},
          "output_type": "display_data"
        }
      ],
      "source": [
        "# let's plot the random matrix fc that you created above\n",
        "plt.imshow(fc)"
      ]
    },
    {
      "cell_type": "markdown",
      "metadata": {
        "id": "6MdhlUPui1fX"
      },
      "source": [
        "<div class=\"alert alert-block alert-success\">\n",
        "<b>Exercise </b><p>\n",
        "Add to the previous image \"Region Index\" as the x- and y-label. Also add a colorbar (hint: plt.colorbar()). Finally, a title: \"FC\".\n",
        "Show the new image!\n",
        "<p>\n",
        "\n",
        "<p>\n",
        " -End of exercise-\n",
        "    </div>"
      ]
    },
    {
      "cell_type": "code",
      "execution_count": 50,
      "metadata": {},
      "outputs": [
        {
          "data": {
            "text/plain": [
              "Text(0, 0.5, 'Region Index')"
            ]
          },
          "execution_count": 50,
          "metadata": {},
          "output_type": "execute_result"
        },
        {
          "data": {
            "image/png": "[encoded data removed]",
            "text/plain": [
              "<Figure size 640x480 with 1 Axes>"
            ]
          },
          "metadata": {},
          "output_type": "display_data"
        }
      ],
      "source": [
        "# Your code here:\n",
        "plt.imshow(fc)\n",
        "plt.xlabel(\"Region Index\")\n",
        "plt.ylabel(\"Region Index\")"
      ]
    },
    {
      "cell_type": "markdown",
      "metadata": {},
      "source": [
        "<div class=\"alert alert-block alert-success\">\n",
        "<b>Exercise </b><p>\n",
        "\n",
        "- Use NumPy to create a sine wave time series (y = sin(t)) for t values between 0 and 10 with 100 points.\n",
        "\n",
        "\n",
        "- Plot the sine wave with labeled axes and a title.\n",
        "\n",
        "\n",
        "<p>\n",
        "\n",
        "<p>\n",
        " -End of exercise-\n",
        "    </div>\n"
      ]
    },
    {
      "cell_type": "code",
      "execution_count": 51,
      "metadata": {},
      "outputs": [
        {
          "data": {
            "text/plain": [
              "Text(0, 0.5, 'sin')"
            ]
          },
          "execution_count": 51,
          "metadata": {},
          "output_type": "execute_result"
        },
        {
          "data": {
            "image/png": "[encoded data removed]",
            "text/plain": [
              "<Figure size 640x480 with 1 Axes>"
            ]
          },
          "metadata": {},
          "output_type": "display_data"
        }
      ],
      "source": [
        "# Your code here:\n",
        "t = np.linspace(1, 10, 100)\n",
        "y = np.sin(t)\n",
        "plt.plot(t, y)\n",
        "plt.xlabel(\"time\")\n",
        "plt.ylabel(\"sin\")"
      ]
    },
    {
      "cell_type": "markdown",
      "metadata": {},
      "source": [
        "<div class=\"alert alert-block alert-success\">\n",
        "<b>Exercise </b><p>\n",
        "\n",
        "\n",
        "- Generate a sine wave (y = sin(t)) as the base signal.\n",
        "\n",
        "\n",
        "- Add random noise to simulate EEG.\n",
        "\n",
        "\n",
        "- Plot both the clean and noisy signals. You can use plt.subplot() or plt.subplots() to have multiple plots in the same figure. Look up the differences and then choose one of the two options\n",
        "\n",
        "<p>\n",
        "\n",
        "<p>\n",
        " -End of exercise-\n",
        "    </div>\n",
        "\n"
      ]
    },
    {
      "cell_type": "code",
      "execution_count": 52,
      "metadata": {},
      "outputs": [
        {
          "data": {
            "image/png": "[encoded data removed]",
            "text/plain": [
              "<Figure size 640x480 with 2 Axes>"
            ]
          },
          "metadata": {},
          "output_type": "display_data"
        }
      ],
      "source": [
        "# Your code here:\n",
        "y = np.sin(t)\n",
        "y_rand = y + np.random.rand(len(t))\n",
        "plt.subplot(121)\n",
        "plt.plot(t, y)\n",
        "plt.xlabel(\"time\")\n",
        "plt.ylabel(\"sin\")\n",
        "plt.subplot(122)\n",
        "plt.plot(t, y_rand)\n",
        "plt.xlabel(\"time\")\n",
        "plt.ylabel(\"sin_random\")\n",
        "plt.tight_layout()"
      ]
    },
    {
      "cell_type": "markdown",
      "metadata": {
        "id": "cCHZUff1iqeF"
      },
      "source": [
        "## Part 4: Introduction to Pandas\n",
        "\n",
        "Pandas is a library for data manipulation and analysis. You can consider it somewhat similar to working with an Excel spreadsheet. You can use Pandas to analyze Excel spreadsheets and all types of tabular data."
      ]
    },
    {
      "cell_type": "code",
      "execution_count": 53,
      "metadata": {
        "id": "kCL4Zj7viraR"
      },
      "outputs": [
        {
          "data": {
            "text/html": [
              "<div>\n",
              "<style scoped>\n",
              "    .dataframe tbody tr th:only-of-type {\n",
              "        vertical-align: middle;\n",
              "    }\n",
              "\n",
              "    .dataframe tbody tr th {\n",
              "        vertical-align: top;\n",
              "    }\n",
              "\n",
              "    .dataframe thead th {\n",
              "        text-align: right;\n",
              "    }\n",
              "</style>\n",
              "<table border=\"1\" class=\"dataframe\">\n",
              "  <thead>\n",
              "    <tr style=\"text-align: right;\">\n",
              "      <th></th>\n",
              "      <th>Name</th>\n",
              "      <th>Age</th>\n",
              "      <th>Score</th>\n",
              "    </tr>\n",
              "  </thead>\n",
              "  <tbody>\n",
              "    <tr>\n",
              "      <th>0</th>\n",
              "      <td>Alice</td>\n",
              "      <td>25</td>\n",
              "      <td>85</td>\n",
              "    </tr>\n",
              "    <tr>\n",
              "      <th>1</th>\n",
              "      <td>Bob</td>\n",
              "      <td>30</td>\n",
              "      <td>90</td>\n",
              "    </tr>\n",
              "    <tr>\n",
              "      <th>2</th>\n",
              "      <td>Julie</td>\n",
              "      <td>25</td>\n",
              "      <td>95</td>\n",
              "    </tr>\n",
              "    <tr>\n",
              "      <th>3</th>\n",
              "      <td>Charlie</td>\n",
              "      <td>35</td>\n",
              "      <td>90</td>\n",
              "    </tr>\n",
              "    <tr>\n",
              "      <th>4</th>\n",
              "      <td>Jan</td>\n",
              "      <td>20</td>\n",
              "      <td>95</td>\n",
              "    </tr>\n",
              "  </tbody>\n",
              "</table>\n",
              "</div>"
            ],
            "text/plain": [
              "      Name  Age  Score\n",
              "0    Alice   25     85\n",
              "1      Bob   30     90\n",
              "2    Julie   25     95\n",
              "3  Charlie   35     90\n",
              "4      Jan   20     95"
            ]
          },
          "execution_count": 53,
          "metadata": {},
          "output_type": "execute_result"
        }
      ],
      "source": [
        "import pandas as pd\n",
        "\n",
        "# Creating a DataFrame\n",
        "data = {\n",
        "    \"Name\": [\"Alice\", \"Bob\", \"Julie\", \"Charlie\", \"Jan\"],\n",
        "    \"Age\": [25, 30, 25, 35, 20,],\n",
        "    \"Score\": [85, 90, 95, 90, 95]\n",
        "}\n",
        "df = pd.DataFrame(data)\n",
        "df.head()"
      ]
    },
    {
      "cell_type": "code",
      "execution_count": 54,
      "metadata": {
        "id": "ap3MBhy5is3X"
      },
      "outputs": [
        {
          "name": "stdout",
          "output_type": "stream",
          "text": [
            "0      Alice\n",
            "1        Bob\n",
            "2      Julie\n",
            "3    Charlie\n",
            "4        Jan\n",
            "Name: Name, dtype: object\n"
          ]
        }
      ],
      "source": [
        "# Accessing data\n",
        "print(df[\"Name\"])  # Accessing acolumn"
      ]
    },
    {
      "cell_type": "markdown",
      "metadata": {},
      "source": [
        "You can also select only those rows that satisfy some condition, for example maybe you want to analyze only subjects older that 30:"
      ]
    },
    {
      "cell_type": "code",
      "execution_count": 55,
      "metadata": {},
      "outputs": [
        {
          "data": {
            "text/html": [
              "<div>\n",
              "<style scoped>\n",
              "    .dataframe tbody tr th:only-of-type {\n",
              "        vertical-align: middle;\n",
              "    }\n",
              "\n",
              "    .dataframe tbody tr th {\n",
              "        vertical-align: top;\n",
              "    }\n",
              "\n",
              "    .dataframe thead th {\n",
              "        text-align: right;\n",
              "    }\n",
              "</style>\n",
              "<table border=\"1\" class=\"dataframe\">\n",
              "  <thead>\n",
              "    <tr style=\"text-align: right;\">\n",
              "      <th></th>\n",
              "      <th>Name</th>\n",
              "      <th>Age</th>\n",
              "      <th>Score</th>\n",
              "    </tr>\n",
              "  </thead>\n",
              "  <tbody>\n",
              "    <tr>\n",
              "      <th>1</th>\n",
              "      <td>Bob</td>\n",
              "      <td>30</td>\n",
              "      <td>90</td>\n",
              "    </tr>\n",
              "    <tr>\n",
              "      <th>3</th>\n",
              "      <td>Charlie</td>\n",
              "      <td>35</td>\n",
              "      <td>90</td>\n",
              "    </tr>\n",
              "  </tbody>\n",
              "</table>\n",
              "</div>"
            ],
            "text/plain": [
              "      Name  Age  Score\n",
              "1      Bob   30     90\n",
              "3  Charlie   35     90"
            ]
          },
          "execution_count": 55,
          "metadata": {},
          "output_type": "execute_result"
        }
      ],
      "source": [
        "df[df[\"Age\"] >= 30]"
      ]
    },
    {
      "cell_type": "markdown",
      "metadata": {},
      "source": [
        "If you just do the above line it won't assign those results to a variable, so df will still be the original one. If you want to create an additional dataframe, you need to assign it to some name."
      ]
    },
    {
      "cell_type": "code",
      "execution_count": 56,
      "metadata": {},
      "outputs": [
        {
          "name": "stdout",
          "output_type": "stream",
          "text": [
            "      Name  Age  Score\n",
            "1      Bob   30     90\n",
            "3  Charlie   35     90\n"
          ]
        }
      ],
      "source": [
        "df_over_30 = df[df[\"Age\"] >= 30]\n",
        "print(df_over_30)"
      ]
    },
    {
      "cell_type": "markdown",
      "metadata": {
        "id": "5U7a3EhXiuTB"
      },
      "source": [
        "Pandas has several handy features allowing you to calculate interesting statistics with very few lines of code. One such example is df.describe()"
      ]
    },
    {
      "cell_type": "code",
      "execution_count": 57,
      "metadata": {
        "id": "eJjbHjh4ivbU"
      },
      "outputs": [
        {
          "data": {
            "text/html": [
              "<div>\n",
              "<style scoped>\n",
              "    .dataframe tbody tr th:only-of-type {\n",
              "        vertical-align: middle;\n",
              "    }\n",
              "\n",
              "    .dataframe tbody tr th {\n",
              "        vertical-align: top;\n",
              "    }\n",
              "\n",
              "    .dataframe thead th {\n",
              "        text-align: right;\n",
              "    }\n",
              "</style>\n",
              "<table border=\"1\" class=\"dataframe\">\n",
              "  <thead>\n",
              "    <tr style=\"text-align: right;\">\n",
              "      <th></th>\n",
              "      <th>Age</th>\n",
              "      <th>Score</th>\n",
              "    </tr>\n",
              "  </thead>\n",
              "  <tbody>\n",
              "    <tr>\n",
              "      <th>count</th>\n",
              "      <td>5.000000</td>\n",
              "      <td>5.0000</td>\n",
              "    </tr>\n",
              "    <tr>\n",
              "      <th>mean</th>\n",
              "      <td>27.000000</td>\n",
              "      <td>91.0000</td>\n",
              "    </tr>\n",
              "    <tr>\n",
              "      <th>std</th>\n",
              "      <td>5.700877</td>\n",
              "      <td>4.1833</td>\n",
              "    </tr>\n",
              "    <tr>\n",
              "      <th>min</th>\n",
              "      <td>20.000000</td>\n",
              "      <td>85.0000</td>\n",
              "    </tr>\n",
              "    <tr>\n",
              "      <th>25%</th>\n",
              "      <td>25.000000</td>\n",
              "      <td>90.0000</td>\n",
              "    </tr>\n",
              "    <tr>\n",
              "      <th>50%</th>\n",
              "      <td>25.000000</td>\n",
              "      <td>90.0000</td>\n",
              "    </tr>\n",
              "    <tr>\n",
              "      <th>75%</th>\n",
              "      <td>30.000000</td>\n",
              "      <td>95.0000</td>\n",
              "    </tr>\n",
              "    <tr>\n",
              "      <th>max</th>\n",
              "      <td>35.000000</td>\n",
              "      <td>95.0000</td>\n",
              "    </tr>\n",
              "  </tbody>\n",
              "</table>\n",
              "</div>"
            ],
            "text/plain": [
              "             Age    Score\n",
              "count   5.000000   5.0000\n",
              "mean   27.000000  91.0000\n",
              "std     5.700877   4.1833\n",
              "min    20.000000  85.0000\n",
              "25%    25.000000  90.0000\n",
              "50%    25.000000  90.0000\n",
              "75%    30.000000  95.0000\n",
              "max    35.000000  95.0000"
            ]
          },
          "execution_count": 57,
          "metadata": {},
          "output_type": "execute_result"
        }
      ],
      "source": [
        "df.describe()"
      ]
    },
    {
      "cell_type": "markdown",
      "metadata": {},
      "source": [
        "You can also group by some variable (e.g., Age) and then see descriptive statistics for another variable (e.g., mean score for every age)"
      ]
    },
    {
      "cell_type": "code",
      "execution_count": 58,
      "metadata": {},
      "outputs": [
        {
          "data": {
            "text/plain": [
              "Age\n",
              "20    95.0\n",
              "25    90.0\n",
              "30    90.0\n",
              "35    90.0\n",
              "Name: Score, dtype: float64"
            ]
          },
          "execution_count": 58,
          "metadata": {},
          "output_type": "execute_result"
        }
      ],
      "source": [
        "df.groupby(\"Age\")[\"Score\"].mean()"
      ]
    },
    {
      "cell_type": "markdown",
      "metadata": {
        "id": "7jhZCppIiwhd"
      },
      "source": [
        "<div class=\"alert alert-block alert-success\">\n",
        "<b>Exercise </b><p>\n",
        "Try to think about a useful example of how you would use Pandas to analyze neuroimaging data. What would be in the rows? What in the columns?\n",
        "<p>\n",
        "\n",
        "<p>\n",
        " -End of exercise-\n",
        "    </div>"
      ]
    },
    {
      "cell_type": "markdown",
      "metadata": {},
      "source": [
        "Imagine you've conducted a very basic experiment where you measured the reaction time (in milliseconds) of a few participants to a visual stimulus. You also recorded whether the stimulus was presented on the left or right side of the screen."
      ]
    },
    {
      "cell_type": "code",
      "execution_count": 59,
      "metadata": {
        "id": "gk-fl_Y-i4b5"
      },
      "outputs": [
        {
          "name": "stdout",
          "output_type": "stream",
          "text": [
            "   participant_ID stimulus_side  reaction_time_ms\n",
            "0               1          Left               250\n",
            "1               1         Right               280\n",
            "2               2          Left               235\n",
            "3               2         Right               260\n",
            "4               3          Left               270\n",
            "5               3         Right               295\n"
          ]
        }
      ],
      "source": [
        "data = {'participant_ID': [1, 1, 2, 2, 3, 3],\n",
        "        'stimulus_side': ['Left', 'Right', 'Left', 'Right', 'Left', 'Right'],\n",
        "        'reaction_time_ms': [250, 280, 235, 260, 270, 295]}\n",
        "df = pd.DataFrame(data)\n",
        "print(df)"
      ]
    },
    {
      "cell_type": "markdown",
      "metadata": {},
      "source": [
        "<div class=\"alert alert-block alert-success\">\n",
        "<b>Exercise </b><p>\n",
        "Inspect the DataFrame: Use basic Pandas commands to get a feel for the data:\n",
        "\n",
        "- Print the first few rows\n",
        "- Get some basic information about the DataFrame (number of rows, column names, data types)\n",
        "- Get descriptive statistics (mean, standard deviation, etc.) only for the numerical column:'reaction_time_ms'\n",
        "\n",
        "Try to select specific data:\n",
        "\n",
        "- Select both the 'Participant ID' and 'Reaction Time (ms)' columns (they are two, so a collection of items...)\n",
        "\n",
        "Filter the data:\n",
        "\n",
        "- Find all the reaction times where the stimulus was on the 'Left'\n",
        "- Find all the reaction times for 'participant_ID' == 2\n",
        "\n",
        "Calculate basic statistics (grouped by a column):\n",
        "\n",
        "- Calculate the average reaction time for each stimulus side\n",
        "- Calculate the average reaction time for each participant\n",
        "<p>\n",
        "\n",
        "<p>\n",
        " -End of exercise-\n",
        "    </div>"
      ]
    },
    {
      "cell_type": "code",
      "execution_count": 60,
      "metadata": {},
      "outputs": [
        {
          "data": {
            "text/html": [
              "<div>\n",
              "<style scoped>\n",
              "    .dataframe tbody tr th:only-of-type {\n",
              "        vertical-align: middle;\n",
              "    }\n",
              "\n",
              "    .dataframe tbody tr th {\n",
              "        vertical-align: top;\n",
              "    }\n",
              "\n",
              "    .dataframe thead th {\n",
              "        text-align: right;\n",
              "    }\n",
              "</style>\n",
              "<table border=\"1\" class=\"dataframe\">\n",
              "  <thead>\n",
              "    <tr style=\"text-align: right;\">\n",
              "      <th></th>\n",
              "      <th>participant_ID</th>\n",
              "      <th>stimulus_side</th>\n",
              "      <th>reaction_time_ms</th>\n",
              "    </tr>\n",
              "  </thead>\n",
              "  <tbody>\n",
              "    <tr>\n",
              "      <th>0</th>\n",
              "      <td>1</td>\n",
              "      <td>Left</td>\n",
              "      <td>250</td>\n",
              "    </tr>\n",
              "    <tr>\n",
              "      <th>1</th>\n",
              "      <td>1</td>\n",
              "      <td>Right</td>\n",
              "      <td>280</td>\n",
              "    </tr>\n",
              "    <tr>\n",
              "      <th>2</th>\n",
              "      <td>2</td>\n",
              "      <td>Left</td>\n",
              "      <td>235</td>\n",
              "    </tr>\n",
              "    <tr>\n",
              "      <th>3</th>\n",
              "      <td>2</td>\n",
              "      <td>Right</td>\n",
              "      <td>260</td>\n",
              "    </tr>\n",
              "    <tr>\n",
              "      <th>4</th>\n",
              "      <td>3</td>\n",
              "      <td>Left</td>\n",
              "      <td>270</td>\n",
              "    </tr>\n",
              "    <tr>\n",
              "      <th>5</th>\n",
              "      <td>3</td>\n",
              "      <td>Right</td>\n",
              "      <td>295</td>\n",
              "    </tr>\n",
              "  </tbody>\n",
              "</table>\n",
              "</div>"
            ],
            "text/plain": [
              "   participant_ID stimulus_side  reaction_time_ms\n",
              "0               1          Left               250\n",
              "1               1         Right               280\n",
              "2               2          Left               235\n",
              "3               2         Right               260\n",
              "4               3          Left               270\n",
              "5               3         Right               295"
            ]
          },
          "execution_count": 60,
          "metadata": {},
          "output_type": "execute_result"
        }
      ],
      "source": [
        "df"
      ]
    },
    {
      "cell_type": "code",
      "execution_count": 61,
      "metadata": {},
      "outputs": [
        {
          "name": "stdout",
          "output_type": "stream",
          "text": [
            "   participant_ID stimulus_side  reaction_time_ms\n",
            "0               1          Left               250\n",
            "1               1         Right               280\n",
            "2               2          Left               235\n",
            "3               2         Right               260\n",
            "4               3          Left               270\n",
            "<class 'pandas.core.frame.DataFrame'>\n",
            "RangeIndex: 6 entries, 0 to 5\n",
            "Data columns (total 3 columns):\n",
            " #   Column            Non-Null Count  Dtype \n",
            "---  ------            --------------  ----- \n",
            " 0   participant_ID    6 non-null      int64 \n",
            " 1   stimulus_side     6 non-null      object\n",
            " 2   reaction_time_ms  6 non-null      int64 \n",
            "dtypes: int64(2), object(1)\n",
            "memory usage: 272.0+ bytes\n",
            "None\n",
            "count      6.000000\n",
            "mean     265.000000\n",
            "std       21.447611\n",
            "min      235.000000\n",
            "25%      252.500000\n",
            "50%      265.000000\n",
            "75%      277.500000\n",
            "max      295.000000\n",
            "Name: reaction_time_ms, dtype: float64\n",
            "   participant_ID  reaction_time_ms\n",
            "0               1               250\n",
            "1               1               280\n",
            "2               2               235\n",
            "3               2               260\n",
            "4               3               270\n",
            "0    250\n",
            "2    235\n",
            "4    270\n",
            "Name: reaction_time_ms, dtype: int64\n",
            "2    235\n",
            "3    260\n",
            "Name: reaction_time_ms, dtype: int64\n",
            "stimulus_side\n",
            "Left     251.666667\n",
            "Right    278.333333\n",
            "Name: reaction_time_ms, dtype: float64\n",
            "participant_ID\n",
            "1    265.0\n",
            "2    247.5\n",
            "3    282.5\n",
            "Name: reaction_time_ms, dtype: float64\n"
          ]
        }
      ],
      "source": [
        "\n",
        "# Print the first few rows\n",
        "print(df.head())\n",
        "\n",
        "# Get basic info about the DataFrame\n",
        "print(df.info())\n",
        "\n",
        "# Get descriptive statistics only for the 'reaction_time_ms' column\n",
        "print(df['reaction_time_ms'].describe())\n",
        "\n",
        "# Select both 'Participant ID' and 'Reaction Time (ms)' columns\n",
        "# Assuming columns are named exactly as given, case sensitive\n",
        "selected_columns = df[['participant_ID', 'reaction_time_ms']]\n",
        "print(selected_columns.head())\n",
        "\n",
        "# Find all reaction times where the stimulus was on the 'Left'\n",
        "left_reactions = df[df['stimulus_side'] == 'Left']['reaction_time_ms']\n",
        "print(left_reactions.head())\n",
        "\n",
        "# Find all the reaction times for participant_ID == 2\n",
        "participant_2_reactions = df[df['participant_ID'] == 2]['reaction_time_ms']\n",
        "print(participant_2_reactions.head())\n",
        "\n",
        "# Average reaction time for each stimulus side\n",
        "avg_by_stimulus = df.groupby('stimulus_side')['reaction_time_ms'].mean()\n",
        "print(avg_by_stimulus)\n",
        "\n",
        "# Average reaction time for each participant\n",
        "avg_by_participant = df.groupby('participant_ID')['reaction_time_ms'].mean()\n",
        "print(avg_by_participant)"
      ]
    },
    {
      "cell_type": "markdown",
      "metadata": {
        "id": "JjHXuID-i6Pm"
      },
      "source": [
        "## Bonus: Classes\n",
        "Classes are blueprints for creating objects (instances). A class can contain attributes (variables) and methods (functions) that define the behavior of the objects."
      ]
    },
    {
      "cell_type": "code",
      "execution_count": 62,
      "metadata": {},
      "outputs": [
        {
          "name": "stdout",
          "output_type": "stream",
          "text": [
            "Alice\n",
            "30\n",
            "Name: Alice, Age: 30\n",
            "Hello, Alice! I've been told you are 30 years old\n"
          ]
        }
      ],
      "source": [
        "# Define a class named Person\n",
        "class Person:\n",
        "    # Constructor method to initialize the object\n",
        "    def __init__(self, name, age):\n",
        "        self.name = name  # Attribute\n",
        "        self.age = age    # Attribute\n",
        "\n",
        "    # Method to display the person's information\n",
        "    def display_info(self):\n",
        "        return f\"Name: {self.name}, Age: {self.age}\"\n",
        "    \n",
        "    def greet(self):\n",
        "        return f\"Hello, {self.name}! I've been told you are {self.age} years old\"\n",
        "\n",
        "# Create an instance of the Person class\n",
        "person1 = Person(\"Alice\", 30)\n",
        "\n",
        "# Access the attributes\n",
        "print(person1.name)  # Output: Alice\n",
        "print(person1.age)   # Output: 30\n",
        "\n",
        "# Call the method\n",
        "print(person1.display_info())  # Output: Name: Alice, Age: 30\n",
        "print(person1.greet())"
      ]
    },
    {
      "cell_type": "markdown",
      "metadata": {
        "id": "oVSmkgqAi-HT"
      },
      "source": [
        "Breaking It Down\n",
        "\n",
        "Class Definition: class Person:\n",
        "\n",
        "This line defines a new class called Person.\n",
        "\n",
        "Initialization Method: def __init__(self, name, age):\n",
        "\n",
        "This is a special method called a constructor. It runs when you create a new Person object.\n",
        "self refers to the instance of the class (like the specific person you're creating).\n",
        "name and age are parameters you provide when you create a new person.\n",
        "\n",
        "Instance Variables:\n",
        "\n",
        "    self.name = name\n",
        "    self.age = age\n",
        "\n",
        "These lines store the provided name and age in the new Person object."
      ]
    },
    {
      "cell_type": "markdown",
      "metadata": {
        "id": "XnYasZvejAGG"
      },
      "source": [
        "<div class=\"alert alert-block alert-success\">\n",
        "<b>Exercise Bonus </b><p>\n",
        "Create a class called Brain. This class should be initialized to contain a number of brain regions specified by the user (e.g., 1) and\n",
        "the names of these regions, inside a list (e.g., [\"frontal\"]). Modify the previous display_info() function from the Person class, so that it prints the number of brain regions and their names.\n",
        "Create an instance of the Brain class with 3 brain regions/lobes of your choice and their names as a list. Display the results using display_info()\n",
        "<p>\n",
        "\n",
        "<p>\n",
        " -End of exercise-\n",
        "    </div>"
      ]
    },
    {
      "cell_type": "code",
      "execution_count": 63,
      "metadata": {},
      "outputs": [
        {
          "name": "stdout",
          "output_type": "stream",
          "text": [
            "Number of brain regions: 3\n",
            "Region names: Frontal, Parietal, Occipital\n"
          ]
        }
      ],
      "source": [
        "class Brain:\n",
        "    def __init__(self, num_regions, region_names):\n",
        "        self.num_regions = num_regions\n",
        "        self.region_names = region_names\n",
        "\n",
        "    def display_info(self):\n",
        "        print(f\"Number of brain regions: {self.num_regions}\")\n",
        "        print(\"Region names:\", \", \".join(self.region_names))\n",
        "\n",
        "\n",
        "# Create an instance with 3 brain regions\n",
        "brain_instance = Brain(3, [\"Frontal\", \"Parietal\", \"Occipital\"])\n",
        "\n",
        "# Display the results\n",
        "brain_instance.display_info()\n"
      ]
    }
  ],
  "metadata": {
    "colab": {
      "authorship_tag": "ABX9TyPyxvE1/f3P1HwyVPAHWBjn",
      "include_colab_link": true,
      "provenance": []
    },
    "kernelspec": {
      "display_name": "Python 3",
      "name": "python3"
    },
    "language_info": {
      "codemirror_mode": {
        "name": "ipython",
        "version": 3
      },
      "file_extension": ".py",
      "mimetype": "text/x-python",
      "name": "python",
      "nbconvert_exporter": "python",
      "pygments_lexer": "ipython3",
      "version": "3.10.11"
    }
  },
  "nbformat": 4,
  "nbformat_minor": 0
}
