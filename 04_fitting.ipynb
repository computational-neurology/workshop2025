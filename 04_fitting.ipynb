{
 "cells": [
  {
   "cell_type": "markdown",
   "metadata": {},
   "source": [
    "<a href=\"https://colab.research.google.com/github/computational-neurology/workshop2025/blob/main/04_fitting.ipynb\" target=\"_parent\"><img src=\"https://colab.research.google.com/assets/colab-badge.svg\" alt=\"Open In Colab\"/></a>"
   ]
  },
  {
   "cell_type": "markdown",
   "metadata": {},
   "source": [
    "## Fitting\n",
    "As you have probably seen by now, it is not easy to determine which parameters give rise to the simulated timeseries just judging by the eye. We need some metrics to be sure of the similarity between empirical and simulated data. One example is to fit the simulated functional connectivity to the empirical functional connectivity by maximizing the correlation between the two matrices (this is just one way to fit)"
   ]
  },
  {
   "cell_type": "code",
   "execution_count": 19,
   "metadata": {},
   "outputs": [],
   "source": [
    "%%capture\n",
    "import sys\n",
    "!{sys.executable} -m pip install git+https://github.com/neurolib-dev/neurolib.git\n",
    "!{sys.executable} -m pip install numpy\n",
    "!{sys.executable} -m pip install matplotlib\n",
    "!{sys.executable} -m pip install nilearn\n",
    "\n",
    "\n",
    "# @title Run this to install dependencies"
   ]
  },
  {
   "cell_type": "code",
   "execution_count": 84,
   "metadata": {},
   "outputs": [],
   "source": [
    "# Let's import all the relevant libraries\n",
    "from neurolib.models.hopf import HopfModel"
   ]
  },
  {
   "cell_type": "code",
   "execution_count": 85,
   "metadata": {},
   "outputs": [],
   "source": [
    "# The brain network dataset\n",
    "from neurolib.utils.loadData import Dataset\n",
    "\n",
    "# Some useful functions are provided here\n",
    "import neurolib.utils.functions as func"
   ]
  },
  {
   "cell_type": "code",
   "execution_count": 6,
   "metadata": {},
   "outputs": [],
   "source": [
    "ds = Dataset(\"hcp\")"
   ]
  },
  {
   "cell_type": "markdown",
   "metadata": {},
   "source": [
    "The Dataset class in neurolib allows you to load some resting-state fMRI BOLD series for 7 healthy subjects which you can access as:"
   ]
  },
  {
   "cell_type": "code",
   "execution_count": 14,
   "metadata": {},
   "outputs": [],
   "source": [
    "len(ds.BOLDs)\n",
    "ts = ds.BOLDs[0]"
   ]
  },
  {
   "cell_type": "markdown",
   "metadata": {},
   "source": [
    "From this ts, start by plotting the functional connectivity."
   ]
  },
  {
   "cell_type": "code",
   "execution_count": 81,
   "metadata": {},
   "outputs": [],
   "source": [
    "# Your answer here:"
   ]
  },
  {
   "cell_type": "markdown",
   "metadata": {},
   "source": [
    "The Dataset class also has some precomputed structural connectivity and delay matrices:"
   ]
  },
  {
   "cell_type": "code",
   "execution_count": 9,
   "metadata": {},
   "outputs": [],
   "source": [
    "sc = ds.Cmat\n",
    "dc = ds.Dmat"
   ]
  },
  {
   "cell_type": "markdown",
   "metadata": {},
   "source": [
    "Your first task is to find out a way to compare two matrices. You can check the documentation for neurolib func module to find some very useful functions for this scope! help(func). How similar are the fc and sc?"
   ]
  },
  {
   "cell_type": "markdown",
   "metadata": {},
   "source": [
    "Use the structural and delay matrices above to set up your HopfModel, like we did in the previous lecture/homework"
   ]
  },
  {
   "cell_type": "code",
   "execution_count": 76,
   "metadata": {},
   "outputs": [],
   "source": [
    "# model = \n",
    "# We set a short duration for the simulation for the purpose of the exercise. \n",
    "# if you want to simulate real data it should match the length of the scan\n",
    "model.params.duration = 2 * 1000 \n",
    "model.params[\"K_gl\"] = 1.0"
   ]
  },
  {
   "cell_type": "markdown",
   "metadata": {},
   "source": [
    "Now your task is to find the model parameters (a) that best reproduce the empirical FC. Don't overthink it for the moment. Just think about the easiest way you know to try several model parameters one after the other... You previously found out how to compare two matrices. So, you should run the model each time with a different parameter, calculate its functional connectivity and compare it to the empirical one, and record the results"
   ]
  },
  {
   "cell_type": "code",
   "execution_count": 80,
   "metadata": {},
   "outputs": [],
   "source": [
    "# your code here:\n"
   ]
  },
  {
   "cell_type": "markdown",
   "metadata": {},
   "source": [
    "What is the a that maximizes the fit to the empirical data? Write down your answer:\n",
    "\n",
    "Best a =\n"
   ]
  },
  {
   "cell_type": "markdown",
   "metadata": {},
   "source": [
    "Now plot the empirical and simulated functional connectivities. Are they very similar or not? Why do you think so?"
   ]
  },
  {
   "cell_type": "code",
   "execution_count": 83,
   "metadata": {},
   "outputs": [],
   "source": [
    "# Your code here"
   ]
  },
  {
   "cell_type": "markdown",
   "metadata": {},
   "source": [
    "## More advanced fitting"
   ]
  },
  {
   "cell_type": "markdown",
   "metadata": {},
   "source": [
    "With Neurolib you can do some more advance fitting... This is not needed for our purposes, but if you are interested and you want to play around with it, you are more than welcome to do so! For example, using Neurolib you can run many simulations in parallel, which considerably speeds up the time and allows you to test out many more parameter combinations. Additionally, you can also use other methods rather than a grid search... Take a look at [this tutorial](https://github.com/neurolib-dev/neurolib/blob/master/examples/example-1.2-brain-network-exploration.ipynb) and [this one](https://github.com/neurolib-dev/neurolib/blob/master/examples/example-2-evolutionary-optimization-minimal.ipynb)."
   ]
  }
 ],
 "metadata": {
  "kernelspec": {
   "display_name": "Python 3",
   "language": "python",
   "name": "python3"
  },
  "language_info": {
   "codemirror_mode": {
    "name": "ipython",
    "version": 3
   },
   "file_extension": ".py",
   "mimetype": "text/x-python",
   "name": "python",
   "nbconvert_exporter": "python",
   "pygments_lexer": "ipython3",
   "version": "3.10.11"
  }
 },
 "nbformat": 4,
 "nbformat_minor": 2
}
