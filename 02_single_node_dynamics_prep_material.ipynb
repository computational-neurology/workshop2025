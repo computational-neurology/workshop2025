{
 "cells": [
  {
   "cell_type": "markdown",
   "metadata": {},
   "source": [
    "# Incredibly short intro to dynamical systems"
   ]
  },
  {
   "cell_type": "markdown",
   "metadata": {},
   "source": [
    "<div class=\"alert alert-block alert-success\">\n",
    "<b>Exercise </b><p>\n",
    "\n",
    "\n",
    "Before we move to modeling the brain, we will start with a brief general introduction on dynamical systems. Nonetheless, there are a few keywords that will recur throughout this and future lectures that you should familiarize with. Please run the following cell and try to answer questions 1-5 (not graded). These questions will allow you to start building a foundation of the main terminology used in the field. If you still have time, move forward to the bonus questions 6-10.\n",
    "\n",
    "In case the cell does not work, follow [this link](https://studio.frameworkconsulting.com/project/8417/shared), then click on \"Small dictionary of dynamical systems\"\n",
    "\n",
    "    \n",
    "<p>\n",
    "\n"
   ]
  },
  {
   "cell_type": "code",
   "execution_count": null,
   "metadata": {},
   "outputs": [],
   "source": [
    "#@title Run to display the quiz\n",
    "from IPython.display import display, HTML\n",
    "\n",
    "html_code = \"\"\"\n",
    "<iframe src=\"https://studio.frameworkconsulting.com/h5p/embed/57555\" width=\"1303\" height=\"344\" frameborder=\"0\" allowfullscreen=\"allowfullscreen\"></iframe>\n",
    "<script src=\"https://studio.frameworkconsulting.com/api/storage/h5p/h5p-core/js/h5p-resizer.js\" charset=\"UTF-8\"></script>\n",
    "\"\"\"\n",
    "\n",
    "display(HTML(html_code))"
   ]
  },
  {
   "cell_type": "markdown",
   "metadata": {},
   "source": [
    "## What is a dynamical system anyways?"
   ]
  },
  {
   "cell_type": "code",
   "execution_count": null,
   "metadata": {},
   "outputs": [],
   "source": [
    "# @title Run to show video, before running make sure your audio is off\n",
    "from IPython.display import IFrame\n",
    "\n",
    "IFrame(src=\"https://www.youtube.com/embed/V4f_1_r80RY?si=b48bVmH2RKoHiOnS&amp;clip=UgkxXnfR53n0TQS9bM4YAsiCLUE1evhLMrTr&amp;clipt=EM2GARjk-wE\", width=660, height=315)\n"
   ]
  },
  {
   "cell_type": "markdown",
   "metadata": {},
   "source": [
    "In this part, we will start learning about behavior of dynamical systems, that is **systems that evolve in time** following specific rules described by a differential equation.\n",
    "\n",
    "Differential equations are equations that express the **rate of change** of the state variable $x$. One typically describes this rate of change using the derivative of $x$ with respect to time ($dx/dt$) on the left hand side of the differential equation:\n",
    "\n",
    "\\begin{equation}\n",
    "\\frac{dx}{dt} = f(x)\n",
    "\\end{equation}\n",
    "\n",
    "You can read this as: the amount of change of variable x for every time step t is given by f(x) [it depends on the value of x].\n",
    "\n",
    "A common notational short-hand is to write $\\dot{x}$ for $\\frac{dx}{dt}$. The dot means \"the derivative with respect to time\".\n",
    "\n",
    "For simplicity, here we will briefly give an example of **linear dynamics**, where $f(x)$ is a linear function of $x$. The main concept you should develop an understanding for in this section is that we can solve these equations **numerically** - with computers - versus analytically.\n",
    "\n",
    "Let's start by examining an example of a simple one-dimensional differential equation in $x$ of the form\n",
    "\n",
    "$$\\dot{x} = a x$$\n",
    "\n",
    "where $a$ is a scalar.\n",
    "\n",
    "Solutions for how $x$ evolves in time when its dynamics are governed by a differential equation like the one above, take the form:\n",
    "\n",
    "\\begin{equation}\n",
    "x(t) = x_0 e^{(a t)}\n",
    "\\end{equation}\n",
    "\n",
    "where $x_0$ is the **initial condition** of the equation -- that is, the value of $x$ at time $0$.\n",
    "</details>\n",
    "\n",
    "Let's explore the behavior of such systems with a simple simulation. By solving a differential equation numerically, we can simulate an ordinary differential equation by modeling time as a discrete list of time steps $t_0, t_1, t_2, \\dots$, such that $t_{i+1}=t_i+dt$. We can get the small change $dx$ over a small duration $dt$ of time from the definition of the differential:\n",
    "\n",
    "$$\n",
    "\\begin{align}\n",
    "\\dot x &= \\frac{dx}{dt} \\\\\n",
    "dx &= \\dot x\\, dt\n",
    "\\end{align}\n",
    "$$\n",
    "\n",
    "So, at each time step $t_i$, we compute a value of $x$, $x(t_i)$, as the sum of the value of $x$ at the previous time step, $x(t_{i-1})$ and a small change $dx=\\dot x\\,dt$:\n",
    "\n",
    "\\begin{equation}\n",
    "x(t_i)=x(t_{i-1})+\\dot x(t_{i-1}) dt\n",
    "\\end{equation}\n",
    "\n",
    "This very simple integration scheme, known as **forward Euler integration**, works well if $dt$ is small and the ordinary differential equation is simple. It can run into issues when the ordinary differential equation is very noisy or when the dynamics include sudden big changes of $x$. Such big jumps can occur, for example, in models of excitable neurons. In such cases, one needs to choose an integration scheme carefully. However, for our simple system, the simple integration scheme should work just fine!"
   ]
  },
  {
   "cell_type": "markdown",
   "metadata": {},
   "source": [
    "## Phase plane\n",
    "\n",
    "Let's briefly introduce more formally a very useful tool to check how the system behaves: the phase plane (or phase space if you have more than 2D). In applied mathematics, in particular in the context of dynamical  system analysis, a phase plane is a visual display of certain characteristics of certain kinds of differential equations; a coordinate plane with axes being the values of the two state variables, say (x, y), or (q, p) etc. (any pair of variables). It is a two-dimensional case of the general n-dimensional phase space. In other words, a phase space or state space is a space in which all possible \"states\" of a dynamical system are represented, with each possible state corresponding to one unique point in the phase space.\n",
    "\n",
    "![phase plane](https://upload.wikimedia.org/wikipedia/commons/thumb/e/ea/Simple_Harmonic_Motion_Orbit.gif/330px-Simple_Harmonic_Motion_Orbit.gif)\n",
    "\n",
    "*From [Wikipedia](https://upload.wikimedia.org/wikipedia/commons/thumb/e/ea/Simple_Harmonic_Motion_Orbit.gif/330px-Simple_Harmonic_Motion_Orbit.gif)*\n",
    "\n",
    "### Explaining the Phase Plane\n",
    "\n",
    "The image shows what's called a phase plane representation of simple harmonic motion. A phase plane is a way to visualize the relationship between the state variables of this system, in this case the object's position and its velocity (speed and direction of motion) at any given time.\n",
    "\n",
    "Here's how to understand the phase plane in the image (on the right):\n",
    "\n",
    "1. The vertical axis (y-axis) represents the object's position. The higher up, the higher the real position, and the lower down, the lower the position.\n",
    "\n",
    "2. The horizontal axis (x-axis) represents the object's velocity. The farther to the right, the more positive the velocity (moving upwards), and the farther to the left, the more negative the velocity (moving downards).\n",
    "\n",
    "3. The oval or elliptical shape traced out in the phase plane shows how the object's position and velocity change together over time as it undergoes this simple harmonic motion.\n",
    "\n",
    "4. At the top and bottom points of the oval, the object's position is at its maximum positive or negative value, but its velocity is zero (it momentarily stops before reversing direction).\n",
    "\n",
    "5. At the rightmost and leftmost bottom points of the oval, the object's velocity is at its maximum positive or negative value, and its position crosses the center point.\n",
    "\n",
    "6. As the object moves along the oval path, its position and velocity are constantly changing, but in a repeating, cyclical pattern. This represents the periodic nature of simple harmonic motion.\n",
    "\n",
    "So, the phase plane provides a visual way to see how an object's position and velocity are related and evolve together during its back-and-forth, oscillatory motion.\n",
    "\n",
    "In this example, it is important to note that each point in the phase plane represents the state of the system at a particular point in time.\n"
   ]
  }
 ],
 "metadata": {
  "language_info": {
   "name": "python"
  }
 },
 "nbformat": 4,
 "nbformat_minor": 2
}
