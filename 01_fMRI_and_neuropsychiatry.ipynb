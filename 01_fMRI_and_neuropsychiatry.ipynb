{
  "cells": [
    {
      "cell_type": "markdown",
      "metadata": {
        "id": "c1cp5OCnPd7E"
      },
      "source": [
        "<a href=\"https://colab.research.google.com/github/computational-neurology/workshop2025/blob/main/01_fMRI_and_neuropsychiatry.ipynb\" target=\"_parent\"><img src=\"https://colab.research.google.com/assets/colab-badge.svg\" alt=\"Open In Colab\"/></a>"
      ]
    },
    {
      "cell_type": "markdown",
      "metadata": {
        "id": "uqqrWtRcrriv"
      },
      "source": [
        "# Introduction to fMRI, neuroanatomy and neuropsychiatry\n"
      ]
    },
    {
      "cell_type": "markdown",
      "metadata": {
        "id": "_dy1AOXjrri6"
      },
      "source": [
        "### Let's compute functional connectivity!\n",
        "\n",
        "Nilearn is a Python toolbox that has a built in function for extracting timeseries from functional files and doing all the extra signal processing at the same time. Let's walk through how this is done.\n",
        "\n",
        "First we'll grab our imports to have all function that we need."
      ]
    },
    {
      "cell_type": "code",
      "execution_count": null,
      "metadata": {
        "id": "-YRuxucvrri7"
      },
      "outputs": [],
      "source": [
        "#! pip install numpy\n",
        "#! pip install matplotlib\n",
        "#! pip install pandas\n",
        "!pip install nilearn\n",
        "#! pip install bids"
      ]
    },
    {
      "cell_type": "code",
      "execution_count": null,
      "metadata": {
        "id": "s4wAu6k4rri9"
      },
      "outputs": [],
      "source": [
        "import numpy as np\n",
        "import pandas as pd\n",
        "import matplotlib.pyplot as plt\n",
        "\n",
        "from nilearn import image\n",
        "from nilearn import datasets\n",
        "from nilearn import plotting"
      ]
    },
    {
      "cell_type": "markdown",
      "metadata": {
        "id": "V6Xn8Fyerri9"
      },
      "source": [
        "Let's grab the data that we want to perform our connectivity analysis later on. Let’s define the regions we want to extract the signal from. We will use the Harvard-Oxford atlas."
      ]
    },
    {
      "cell_type": "code",
      "execution_count": null,
      "metadata": {
        "id": "36raBbWgrri-"
      },
      "outputs": [],
      "source": [
        "dataset = datasets.fetch_atlas_harvard_oxford('cort-maxprob-thr25-2mm')\n",
        "atlas_filename = dataset.maps\n",
        "labels = dataset.labels"
      ]
    },
    {
      "cell_type": "markdown",
      "metadata": {
        "id": "uhucND27rri_"
      },
      "source": [
        "Let's have a look at the brain parcellation."
      ]
    },
    {
      "cell_type": "code",
      "execution_count": null,
      "metadata": {
        "id": "4xCP9PJRrri_"
      },
      "outputs": [],
      "source": [
        "plotting.plot_roi(atlas_filename)"
      ]
    },
    {
      "cell_type": "markdown",
      "metadata": {
        "id": "OaJmcllWrri_"
      },
      "source": [
        "Let's now look at the names of the first ten brain regions of the parcellation."
      ]
    },
    {
      "cell_type": "code",
      "execution_count": null,
      "metadata": {
        "id": "mnr3cFQNrrjA"
      },
      "outputs": [],
      "source": [
        "# Load labels for each atlas region\n",
        "labels[:10]"
      ]
    },
    {
      "cell_type": "markdown",
      "metadata": {
        "id": "eGPTvmJFrrjA"
      },
      "source": [
        "We can also look at the fMRI data from the dataset. Let's have a look at the different files associated with the fMRI data."
      ]
    },
    {
      "cell_type": "code",
      "execution_count": null,
      "metadata": {
        "id": "o-EkpONOrrjA"
      },
      "outputs": [],
      "source": [
        "# One subject of fmri data\n",
        "data = datasets.fetch_development_fmri(n_subjects=1)\n",
        "func_file = data.func[0]\n",
        "confound_file = data.confounds[0]"
      ]
    },
    {
      "cell_type": "markdown",
      "metadata": {
        "id": "8HT2301vrrjB"
      },
      "source": [
        "We can now have a look at the mean image of the fMRI file. You can see that it is quite blurry- the resolution is much lower than of an anatomical file."
      ]
    },
    {
      "cell_type": "code",
      "execution_count": null,
      "metadata": {
        "id": "B0l34sqSrrjB"
      },
      "outputs": [],
      "source": [
        "plotting.view_img(image.mean_img(func_file), threshold=None)"
      ]
    },
    {
      "cell_type": "markdown",
      "metadata": {
        "id": "ogIOHu2UrrjC"
      },
      "source": [
        "Now we'll import a package from <code>nilearn</code>, called <code>input_data</code> which allows us to extract the time series data using the parcellation file (i.e., the average signal over time from each of the regions of the parcellations will be extracted), and at the same time applying data preprocessing to clean the time series!\n",
        "\n",
        "We first create an object using the parcellation file <code>Harvard-Oxford atlas</code> and our cleaning settings which are the following:\n",
        "\n",
        "Settings to use:\n",
        "- Confounds: trans_x, trans_y, trans_z, rot_x, rot_y, rot_z, white_matter, csf, global_signal\n",
        "- Temporal Derivatives: Yes\n",
        "- high_pass = 0.009\n",
        "- low_pass = 0.08\n",
        "- detrend = True\n",
        "- standardize = True"
      ]
    },
    {
      "cell_type": "markdown",
      "metadata": {
        "id": "9HtQ5gPfrrjC"
      },
      "source": [
        "To extract signal on the parcellation you can use the NiftiLabelsMasker in Python. It is a processing object that is created by specifying all the important parameters (e.g, how to preprocess the data), but not the data itself. You have to give the data to the masker later on and you can use it on as many functional imaging data as you want."
      ]
    },
    {
      "cell_type": "code",
      "execution_count": null,
      "metadata": {
        "id": "uRcwKLK5rrjC"
      },
      "outputs": [],
      "source": [
        "# Note: if you are using Nilearn with a version newer than 0.9.0 (e.g., in the future on your local laptop),\n",
        "#then you should use the following: from nilearn.maskers import NiftiLabelsMasker\n",
        "\n",
        "from nilearn.input_data import NiftiLabelsMasker\n",
        "\n",
        "masker = NiftiLabelsMasker(labels_img=atlas_filename,\n",
        "                                      standardize=True,\n",
        "                                      memory='nilearn_cache',\n",
        "                                      verbose=1,\n",
        "                                      detrend=True,\n",
        "                                     low_pass = 0.08,\n",
        "                                     high_pass = 0.009,\n",
        "                                      t_r=2\n",
        "                                    )\n"
      ]
    },
    {
      "cell_type": "markdown",
      "metadata": {
        "id": "7E9mRzKJrrjC"
      },
      "source": [
        "The object <code>masker</code> is now able to be used on *any functional image of the same size*. The `input_data.NiftiLabelsMasker` object is a wrapper that applies parcellation, cleaning and averaging to an functional image. For example let's apply this to our first subject:"
      ]
    },
    {
      "cell_type": "markdown",
      "metadata": {
        "id": "xnT8AibTrrjD"
      },
      "source": [
        "### Using the masker\n",
        "Finally with everything set up, we can now use the masker to perform our:\n",
        "1. Confounds cleaning\n",
        "2. Parcellation\n",
        "3. Extract the average time series from one parcel (i.e., one brain region)<p>\n",
        "All in one step!\n"
      ]
    },
    {
      "cell_type": "code",
      "execution_count": null,
      "metadata": {
        "id": "xr4AhzuSrrjD"
      },
      "outputs": [],
      "source": [
        "#Apply cleaning, parcellation and extraction to functional data\n",
        "time_series = masker.fit_transform(func_file, confounds=confound_file)"
      ]
    },
    {
      "cell_type": "markdown",
      "metadata": {
        "id": "_hV9hGm_rrjD"
      },
      "source": [
        "Now we can have a look at the time series of one of the regions from the functional data."
      ]
    },
    {
      "cell_type": "code",
      "execution_count": null,
      "metadata": {
        "id": "0HuLMRy1rrjD"
      },
      "outputs": [],
      "source": [
        "plt.plot(time_series[:,1])\n",
        "# if you want to look at another region, just change the number 1 to another number in the code!"
      ]
    },
    {
      "cell_type": "markdown",
      "metadata": {
        "id": "rbmkWgvDrrjE"
      },
      "source": [
        "<div class=\"alert alert-block alert-success\">\n",
        "<b>Exercise 1</b><p>\n",
        "Now let's look at the time series structure. What do these two values (168,48) mean?\n",
        "    \n",
        "</div>"
      ]
    },
    {
      "cell_type": "code",
      "execution_count": null,
      "metadata": {
        "id": "lIV7fCtmrrjE"
      },
      "outputs": [],
      "source": [
        "time_series.shape"
      ]
    },
    {
      "cell_type": "markdown",
      "metadata": {
        "id": "bwHCFTtWrrjE"
      },
      "source": [
        "The result of running <code>masker.fit_transform</code> is a matrix that has: <p>\n",
        "INSERT ANSWER HERE\n",
        "- Rows matching the XXXX (168)\n",
        "- Columns matching the XXXX (48)"
      ]
    },
    {
      "cell_type": "markdown",
      "metadata": {
        "id": "9ROIorlrrrjE"
      },
      "source": [
        "<div class=\"alert alert-block alert-success\">\n",
        "-End of Exercise-\n",
        "            </div>"
      ]
    },
    {
      "cell_type": "markdown",
      "metadata": {
        "id": "IzMjRqrCrrjE"
      },
      "source": [
        "We originally had **49 ROIs**, what happened to 1 of them? It turns out that <code>masker</code> drops ROIs that are empty (i.e contain no brain voxels inside of them), this means that 1 of our atlas' parcels did not correspond to any region with signal! To see which ROIs are kept after computing a parcellation you can look at the <code>labels_</code> property of <code>masker</code>:"
      ]
    },
    {
      "cell_type": "code",
      "execution_count": null,
      "metadata": {
        "id": "e2vyv0PyrrjF"
      },
      "outputs": [],
      "source": [
        "print(masker.labels_)\n",
        "print(\"Number of labels\", len(masker.labels_))"
      ]
    },
    {
      "cell_type": "markdown",
      "metadata": {
        "id": "o1fTdeGWrrjF"
      },
      "source": [
        "If you want to work with multiple subjects (all of whom might have different missing values), you should create an array that contains the all regions (and has zeros for the missing values). This is not part of our class today."
      ]
    },
    {
      "cell_type": "markdown",
      "metadata": {
        "id": "lDaaQrIJrrjJ"
      },
      "source": [
        "### Calculating Connectivity\n"
      ]
    },
    {
      "cell_type": "markdown",
      "metadata": {
        "id": "cFgwJEwyrrjK"
      },
      "source": [
        "We now have 48 time series from 48 regions, so we can see which regions have similar activity over time, i.e., are functionally connected to each other. This does not mean that they are directly connected via fibers, but they can be also connected via another region."
      ]
    },
    {
      "cell_type": "markdown",
      "metadata": {
        "id": "gsYnmaTBrrjK"
      },
      "source": [
        "<div class=\"alert alert-block alert-success\">\n",
        "<b>Exercise 2</b><p>\n",
        "\n",
        "There are different types of connectivity that we will discuss:\n",
        "    1. ROI-based connectivity\n",
        "    2. Independent component analysis.\n",
        "Please have a look inside this paper: http://www.ajnr.org/content/early/2018/01/18/ajnr.A5527 and explain the difference between these two.\n",
        "    \n",
        "    \n",
        "-End of Exercise-  \n",
        "</div>"
      ]
    },
    {
      "cell_type": "markdown",
      "metadata": {
        "id": "tg_arxJhrrjK"
      },
      "source": [
        "In our seminar today, we will focus on the ROI-based connectivity, i.e. we will see how each region (of interest = ROI) from a parcellation is functionally connected with each other. We will calculate a *full connectivity matrix* by computing the correlation between *all pairs of ROIs* in our parcellation scheme!\n",
        "\n",
        "We'll use another nilearn tool called <code>ConnectivityMeasure</code> from <code>nilearn.connectome</code>. This tool will perform the full set of pairwise correlations for us"
      ]
    },
    {
      "cell_type": "markdown",
      "metadata": {
        "id": "Xf3im5S0rrjK"
      },
      "source": [
        "Like the masker, we need to make an object that will calculate connectivity for us."
      ]
    },
    {
      "cell_type": "code",
      "execution_count": null,
      "metadata": {
        "id": "Wx427EohrrjK"
      },
      "outputs": [],
      "source": [
        "from nilearn.connectome import ConnectivityMeasure"
      ]
    },
    {
      "cell_type": "code",
      "execution_count": null,
      "metadata": {
        "id": "1_qxXhlXrrjL"
      },
      "outputs": [],
      "source": [
        "correlation_measure = ConnectivityMeasure(kind='correlation')"
      ]
    },
    {
      "cell_type": "markdown",
      "metadata": {
        "id": "iSUjqCPtrrjL"
      },
      "source": [
        "Then we use <code>correlation_measure.fit_transform()</code> in order to calculate the full correlation matrix for our parcellated data!\n"
      ]
    },
    {
      "cell_type": "markdown",
      "metadata": {
        "id": "bp6U1TIPrrjL"
      },
      "source": [
        "<div class=\"alert alert-block alert-success\">\n",
        "<b>Exercise 3</b><p>\n",
        "\n",
        "Please now include the missing variable (i.e., the preprocessed time series from above) in the code below to calculate the connectivity.\n",
        "\n",
        "</div>"
      ]
    },
    {
      "cell_type": "code",
      "execution_count": null,
      "metadata": {
        "id": "3tl6mBG3rrjL"
      },
      "outputs": [],
      "source": [
        "full_correlation_matrix = correlation_measure.fit_transform([])"
      ]
    },
    {
      "cell_type": "markdown",
      "metadata": {
        "id": "OgAMNSZ3rrjL"
      },
      "source": [
        "<div class=\"alert alert-block alert-success\">\n",
        "-End of Exercise-  \n",
        "</div>"
      ]
    },
    {
      "cell_type": "markdown",
      "metadata": {
        "id": "PvZ65jCqKEly"
      },
      "source": [
        "<div class=\"alert alert-block alert-success\">\n",
        "<b>Exercise 3a (optional)</b><p>\n",
        "\n",
        "If you have time, how can you calcuate functional connectivity without a Nilearn function (i.e., just the correlations of the time series)? E.g., which Numpy or scikit-learn functions would be suitable to retrieve pairwise correlations or even ICA?\n",
        "\n",
        "</div>"
      ]
    },
    {
      "cell_type": "code",
      "source": [
        "import sklearn"
      ],
      "metadata": {
        "id": "HqCP52EZW7Kh"
      },
      "execution_count": null,
      "outputs": []
    },
    {
      "cell_type": "code",
      "execution_count": null,
      "metadata": {
        "id": "gylCsQk1KC8T"
      },
      "outputs": [],
      "source": []
    },
    {
      "cell_type": "markdown",
      "metadata": {
        "id": "ZjxNILn2KS6x"
      },
      "source": [
        "<div class=\"alert alert-block alert-success\">\n",
        "-End of Exercise-  \n",
        "</div>"
      ]
    },
    {
      "cell_type": "markdown",
      "metadata": {
        "id": "565zd2TirrjL"
      },
      "source": [
        "<div class=\"alert alert-block alert-success\">\n",
        "<b>Exercise 4</b><p>\n",
        "Let's now look at the shape of the resulting connectivity matrix. What does it mean?\n",
        "    \n",
        "INSERT ANSWER HERE"
      ]
    },
    {
      "cell_type": "code",
      "execution_count": null,
      "metadata": {
        "id": "LmTiC8hnrrjL"
      },
      "outputs": [],
      "source": [
        "full_correlation_matrix.shape"
      ]
    },
    {
      "cell_type": "markdown",
      "metadata": {
        "id": "SiLK7KaprrjM"
      },
      "source": [
        "<div class=\"alert alert-block alert-success\">\n",
        "-End of Exercise-  \n",
        "</div>"
      ]
    },
    {
      "cell_type": "markdown",
      "metadata": {
        "id": "aIXZG06JrrjM"
      },
      "source": [
        "<div class=\"alert alert-block alert-success\">\n",
        "<b>Exercise 5</b><p>\n",
        "\n",
        "Below you find a visualization of the connectivity matrix. How would you describe it?\n",
        "    \n",
        "INSERT ANSWER HERE\n",
        "</div>"
      ]
    },
    {
      "cell_type": "markdown",
      "metadata": {
        "id": "j0xTjBoIJX3Q"
      },
      "source": []
    },
    {
      "cell_type": "code",
      "execution_count": null,
      "metadata": {
        "id": "YtoSi_QsrrjM"
      },
      "outputs": [],
      "source": [
        "plt.imshow(np.squeeze(full_correlation_matrix))"
      ]
    },
    {
      "cell_type": "markdown",
      "metadata": {
        "id": "rfdLGocCrrjM"
      },
      "source": [
        "<div class=\"alert alert-block alert-success\">\n",
        "-End of Exercise-  \n",
        "</div>"
      ]
    },
    {
      "cell_type": "markdown",
      "metadata": {
        "id": "2kOiGIworrjN"
      },
      "source": [
        "<div class=\"alert alert-block alert-success\">\n",
        "<b>Exercise 6</b><p>\n",
        "\n",
        "Now that you know functional connectivity. It gives a value for each pair of brain regions over time. Can you split your team into two and one half does a search on  dynamic functional connectivity and the other on effective connectivity and then explains to the others? What are its advantages and disadvantages?\n",
        "    \n",
        "INSERT YOUR THOUGHTS HERE\n",
        "\n",
        "-End of Exercise-  \n",
        "</div>"
      ]
    },
    {
      "cell_type": "markdown",
      "metadata": {
        "id": "XohxMiRqrrjN"
      },
      "source": [
        "## Congratulations!\n",
        "\n",
        "Hopefully now you understand that:\n",
        "\n",
        "1. fMRI data needs to be pre-processed before analyzing\n",
        "2. Manipulating images in python is easily done using `nilearn` and `nibabel`\n",
        "3. You can also do post-processing like confound/nuisance regression using `nilearn`\n",
        "4. Parcellating is a method of simplifying and \"averaging\" data. The type of parcellation reflect assumptions you make about the structure of your data\n",
        "5. Functional Connectivity is really just time-series correlations between two signals!"
      ]
    },
    {
      "cell_type": "markdown",
      "metadata": {
        "id": "AmQ7jy75rrjN"
      },
      "source": [
        "## More information/additional reading material:\n",
        "\n",
        "https://andysbrainbook.readthedocs.io/en/latest/\n",
        "\n",
        "https://nilearn.github.io/user_guide.html"
      ]
    }
  ],
  "metadata": {
    "colab": {
      "provenance": []
    },
    "kernelspec": {
      "display_name": "Python 3",
      "language": "python",
      "name": "python3"
    },
    "language_info": {
      "codemirror_mode": {
        "name": "ipython",
        "version": 3
      },
      "file_extension": ".py",
      "mimetype": "text/x-python",
      "name": "python",
      "nbconvert_exporter": "python",
      "pygments_lexer": "ipython3",
      "version": "3.6.4"
    }
  },
  "nbformat": 4,
  "nbformat_minor": 0
}