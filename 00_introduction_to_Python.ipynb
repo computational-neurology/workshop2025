{
  "cells": [
    {
      "cell_type": "markdown",
      "metadata": {
        "colab_type": "text",
        "id": "view-in-github"
      },
      "source": [
        "<a href=\"https://colab.research.google.com/github/computational-neurology/workshop2024/blob/main/00_introduction_to_Python.ipynb\" target=\"_parent\"><img src=\"https://colab.research.google.com/assets/colab-badge.svg\" alt=\"Open In Colab\"/></a>"
      ]
    },
    {
      "cell_type": "markdown",
      "metadata": {
        "id": "o8d-nq83hMMX"
      },
      "source": [
        "# Super crash course in Python"
      ]
    },
    {
      "cell_type": "code",
      "execution_count": null,
      "metadata": {
        "id": "5RkVng7xhYG7"
      },
      "outputs": [],
      "source": [
        "! pip install numpy\n",
        "! pip install pandas\n",
        "! pip install matplotlib"
      ]
    },
    {
      "cell_type": "markdown",
      "metadata": {},
      "source": [
        "# A preliminary note on the use of LLMs"
      ]
    },
    {
      "cell_type": "markdown",
      "metadata": {},
      "source": [
        "All the exercises are ungraded and are just there for you to try things out and learn. You can of course copy/paste them into an LLM and solve them, but it won't be helpful for you at this stage. You can of course ask LLM to explain in greater depths specific commands, but still try to write them yourself in the exercises! LLMs will become useful to write code during your programming journey, but you first need to understand the core concepts of Python, which will take quite some time! So, please try the exercises and make as many mistakes as possible! The cool thing about programming is that you can just try things out until they work, which you can see immediately!"
      ]
    },
    {
      "cell_type": "markdown",
      "metadata": {},
      "source": [
        "## Part 1 Conditional statements and for loops"
      ]
    },
    {
      "cell_type": "markdown",
      "metadata": {},
      "source": [
        "Conditional statements are used when you want to run some code only if some condition is fulfilled. You can think about using this to run pieces of code only on some regions of the brain, while running another block on some other regions. In Python you run this conditional statements as if/elif/else:"
      ]
    },
    {
      "cell_type": "code",
      "execution_count": null,
      "metadata": {},
      "outputs": [],
      "source": [
        "# if something is True, then do A, otherwise do B:\n",
        "a = 2\n",
        "\n",
        "if a < 4:\n",
        "    print(f\"{a} is less than four!\")\n",
        "else:\n",
        "    print(f\"{a} is greater than four!\")"
      ]
    },
    {
      "cell_type": "markdown",
      "metadata": {},
      "source": [
        "What if a is 4?"
      ]
    },
    {
      "cell_type": "code",
      "execution_count": null,
      "metadata": {},
      "outputs": [],
      "source": [
        "if a < 4:\n",
        "    print(f\"{a} is less than four!\") # if a is less than 4 print this line.\n",
        "elif a == 4:\n",
        "    print(f\"{a} is exactly four!\") # else if a is exactly 4 print this line.\n",
        "else:\n",
        "    print(f\"{a} is greater than four!\") # else (in all other occasions) print this line. "
      ]
    },
    {
      "cell_type": "markdown",
      "metadata": {},
      "source": [
        "<div class=\"alert alert-block alert-success\">\n",
        "<b>Exercise </b><p>\n",
        "In the previous cells, play around with a to see what changes\n",
        "<p>\n",
        "\n",
        "<p>\n",
        " -End of exercise-\n",
        "    </div>"
      ]
    },
    {
      "cell_type": "markdown",
      "metadata": {},
      "source": [
        "What is a 'for' loop? A 'for' loop lets us iterate over a sequence (like a list) and perform an action for each item in the sequence."
      ]
    },
    {
      "cell_type": "code",
      "execution_count": null,
      "metadata": {},
      "outputs": [],
      "source": [
        "# Example:\n",
        "brain_structures = [\"white matter\", \"gray matter\", \"ventricles\"]\n",
        "for ba in brain_structures:\n",
        "    print(\"The brain contains\", ba)  # This prints each brain structure"
      ]
    },
    {
      "cell_type": "markdown",
      "metadata": {},
      "source": [
        "<div class=\"alert alert-block alert-success\">\n",
        "<b>Exercise </b><p>\n",
        "\n",
        "1. Create a list called 'brain_regions' with the following regions:\n",
        "   \"Hippocampus\", \"Amygdala\", \"Thalamus\", \"Cortex\", \"Cerebellum\"\n",
        "\n",
        "2. Write a for loop to go through each brain region and print its name.\n",
        "\n",
        "3. Add an if/else statement inside the loop:\n",
        "   - If the region is \"Hippocampus\", print \"Hippocampus is important for memory!\"\n",
        "   - Otherwise, just print the region name.\n",
        "   \n",
        "<p>\n",
        "\n",
        "<p>\n",
        " -End of exercise-\n",
        "    </div>"
      ]
    },
    {
      "cell_type": "markdown",
      "metadata": {
        "id": "PRTztZFGiOr-"
      },
      "source": [
        "## Part 2 Functions\n",
        "Functions are reusable blocks of code that perform a specific task. Functions help in organizing code, making it more readable and reusable. You can define a function using the def keyword.\n",
        "The triple \"\"\" allow you to write documentation for the function. It is crucial to remember to comment your functions so that several months from now you will remember what each function does. This will also greatly help other people trying to read your code."
      ]
    },
    {
      "cell_type": "code",
      "execution_count": null,
      "metadata": {
        "id": "xK7h7gNTiP36"
      },
      "outputs": [],
      "source": [
        "# Define a function to greet a person\n",
        "\n",
        "def greet(name):\n",
        "    \"\"\"\n",
        "    Generates a greeting message for the specified name.\n",
        "\n",
        "    Parameters:\n",
        "        name (str): The name of the person to greet.\n",
        "\n",
        "    Returns:\n",
        "        str: A greeting message in the format \"Hello, {name}!\".\n",
        "    \"\"\"\n",
        "    return f\"Hello, {name}!\"\n",
        "\n",
        "# Call the function\n",
        "print(greet(\"Alice\"))  # Output: Hello, Alice!"
      ]
    },
    {
      "cell_type": "markdown",
      "metadata": {
        "id": "N69f2BFziRWH"
      },
      "source": [
        "If you don't know what a function does, ask for help! This works also for functions of packages (e.g., Numpy, see later)"
      ]
    },
    {
      "cell_type": "code",
      "execution_count": null,
      "metadata": {
        "id": "2zgh46XAiSXF"
      },
      "outputs": [],
      "source": [
        "help(greet)"
      ]
    },
    {
      "cell_type": "markdown",
      "metadata": {
        "id": "rymi-PuaiTqG"
      },
      "source": [
        "<div class=\"alert alert-block alert-success\">\n",
        "<b>Exercise </b><p>\n",
        "Write a function called \"square\" that simply squares a number (square in Python is: n**power, i.e., 9**2). This function should take as input a number, n, and return its squared value.\n",
        "<p>\n",
        "\n",
        "<p>\n",
        " -End of exercise-\n",
        "    </div>"
      ]
    },
    {
      "cell_type": "code",
      "execution_count": null,
      "metadata": {
        "id": "CvIhNjHqiU-Z"
      },
      "outputs": [],
      "source": [
        "# Your code here. Uncomment.\n",
        "\n",
        "#...\n",
        "\n",
        "#result = square(5)\n",
        "#print(result)  # Output: 25\n"
      ]
    },
    {
      "cell_type": "markdown",
      "metadata": {
        "id": "9HUbHV1giWdt"
      },
      "source": [
        "<div class=\"alert alert-block alert-success\">\n",
        "<b>Exercise Bonus </b><p>\n",
        "Modify the previous function in order to calculate the nth power of a number. Hint, the second function should accept 2 arguments, n and power.\n",
        "<p>\n",
        "\n",
        "<p>\n",
        " -End of exercise-\n",
        "    </div>"
      ]
    },
    {
      "cell_type": "markdown",
      "metadata": {
        "id": "V-BcbqKniYuw"
      },
      "source": [
        "## Part 3: Using Python Packages\n",
        "In Python, a package is a way to organize and distribute a collection of modules. A module is simply a file containing Python code that defines functions, classes, or variables, which can be reused in different programs. A package allows you to bundle multiple modules together, making it easier to manage and use code libraries.\n",
        "\n",
        "Think of a package as a toolbox, and each module within it as a specific tool. For example, if you have a toolbox for analyzing brain imaging data, one module might contain functions for reading data files, another for processing the data, and another for visualizing the results.\n",
        "To use a package, you should first install it (here everything is already pre-installed, so you don't have to do it).\n",
        "Then, you simply import the package using the package name. It is useful to give short names to packages so that you have to write less code.\n",
        "\n",
        "Common widely used names are: numpy → np; pandas → pd; matplotlib.pyplot → plt; (see later)"
      ]
    },
    {
      "cell_type": "code",
      "execution_count": null,
      "metadata": {
        "id": "pF9-k35uicE1"
      },
      "outputs": [],
      "source": [
        "import numpy as np"
      ]
    },
    {
      "cell_type": "markdown",
      "metadata": {
        "id": "O1oqfSe0igP7"
      },
      "source": [
        "## Part 4: Introduction to NumPy\n",
        "NumPy is a powerful library for numerical computing in Python. After having imported numpy as np, you can start calling its methods. For example Numpy allows you to create vectors and store numerical values in them. Vectorization dramatically increases the speed of many math operations!"
      ]
    },
    {
      "cell_type": "code",
      "execution_count": null,
      "metadata": {
        "id": "AAzX0BtvihlK"
      },
      "outputs": [],
      "source": [
        "# Creating a NumPy array\n",
        "list_n = [1, 2, 3, 4, 5]\n",
        "array = np.array(list_n)\n",
        "print(array)"
      ]
    },
    {
      "cell_type": "markdown",
      "metadata": {},
      "source": [
        "\n",
        "<div class=\"alert alert-block alert-success\">\n",
        "<b>Exercise Bonus </b><p>\n",
        "Other important numpy commands are np.arange() and np.linspace. What are they useful for? What is the difference? Uncomment the following cell and try to figure out..\n",
        "\n",
        "<p>\n",
        "\n",
        "<p>\n",
        " -End of exercise-\n",
        "    </div>\n",
        "\n"
      ]
    },
    {
      "cell_type": "code",
      "execution_count": null,
      "metadata": {},
      "outputs": [],
      "source": [
        "# range = np.arange(...)\n",
        "# linspace = np.linspace(...)"
      ]
    },
    {
      "cell_type": "markdown",
      "metadata": {},
      "source": [
        "What happens if you perform addition or multiplication between a scalar and a numpy array?"
      ]
    },
    {
      "cell_type": "code",
      "execution_count": null,
      "metadata": {
        "id": "KenY36P0iiln"
      },
      "outputs": [],
      "source": [
        "# Performing operations\n",
        "print(array + 10)\n",
        "print(array * 2)"
      ]
    },
    {
      "cell_type": "markdown",
      "metadata": {
        "id": "nfyMknVIij5T"
      },
      "source": [
        "You can perform many interesting operations with numpy!"
      ]
    },
    {
      "cell_type": "code",
      "execution_count": null,
      "metadata": {
        "id": "_8BU_mnDik4k"
      },
      "outputs": [],
      "source": [
        "# Sum of the elements of an array\n",
        "s = array.sum()\n",
        "print(f\"The sum of all elements of the array is: {s}\")"
      ]
    },
    {
      "cell_type": "code",
      "execution_count": null,
      "metadata": {
        "id": "0UwEMms3il2p"
      },
      "outputs": [],
      "source": [
        "# Mean of the elements of an array\n",
        "m = array.mean()\n",
        "print(f\"The mean is: {m}\")"
      ]
    },
    {
      "cell_type": "code",
      "execution_count": null,
      "metadata": {
        "id": "nkPwDeKgim6m"
      },
      "outputs": [],
      "source": [
        "# Std. deviation of the elements of an array\n",
        "std = array.std()\n",
        "print(f\"The std. dev. is: {std:.2f}\")"
      ]
    },
    {
      "cell_type": "markdown",
      "metadata": {},
      "source": [
        "Just as with lists, you can also change elements of a numpy array using indexing:"
      ]
    },
    {
      "cell_type": "code",
      "execution_count": null,
      "metadata": {},
      "outputs": [],
      "source": [
        "print(array)\n",
        "array[0] = 100\n",
        "print(array)"
      ]
    },
    {
      "cell_type": "markdown",
      "metadata": {
        "id": "J9EvEENFin_X"
      },
      "source": [
        "<div class=\"alert alert-block alert-success\">\n",
        "<b>Exercise </b><p>\n",
        "Create an array containing the values [1, 5, 7] and take its mean using Numpy.\n",
        "<p>\n",
        "\n",
        "<p>\n",
        " -End of exercise-\n",
        "    </div>"
      ]
    },
    {
      "cell_type": "code",
      "execution_count": null,
      "metadata": {},
      "outputs": [],
      "source": [
        "# Your code here:"
      ]
    },
    {
      "cell_type": "markdown",
      "metadata": {},
      "source": [
        "<div class=\"alert alert-block alert-success\">\n",
        "<b>Exercise </b><p>\n",
        "\n",
        "\n",
        "- Import NumPy and create a 1D array representing a simple time series of 10 time points with values increasing from 1 to 10.\n",
        "\n",
        "\n",
        "- Create a 2D NumPy array (5×5) called fc with random values between 0 and 1 (np.random.random), representing a connectivity matrix.\n",
        "\n",
        "\n",
        "- Compute and print the mean and standard deviation of the matrix.\n",
        "<p>\n",
        "\n",
        "<p>\n",
        " -End of exercise-\n",
        "    </div>\n"
      ]
    },
    {
      "cell_type": "code",
      "execution_count": null,
      "metadata": {},
      "outputs": [],
      "source": [
        "# Your code here:\n",
        "fc = np.nan # this is just a place-holder."
      ]
    },
    {
      "cell_type": "markdown",
      "metadata": {
        "id": "ZvxiXEx3ix3R"
      },
      "source": [
        "## Part 5: Introduction to Matplotlib\n",
        "\n",
        "Matplotlib is a plotting library for creating data visualizations. We will use it to plot the results of our simulations.\n",
        "You can plot all kinds of visualizations types, from lines to histograms to barcharts ... to functional connectivity matrices."
      ]
    },
    {
      "cell_type": "code",
      "execution_count": null,
      "metadata": {
        "id": "rQmPDTr0izBk"
      },
      "outputs": [],
      "source": [
        "import matplotlib.pyplot as plt\n",
        "\n",
        "# Creating a simple plot\n",
        "plt.plot([1, 2, 3, 4], [1, 4, 9, 16])\n",
        "plt.xlabel(\"X-axis\")\n",
        "plt.ylabel(\"Y-axis\")\n",
        "plt.title(\"Simple Plot\")\n",
        "plt.show()"
      ]
    },
    {
      "cell_type": "code",
      "execution_count": null,
      "metadata": {
        "id": "VO1XyAR3i0LP"
      },
      "outputs": [],
      "source": [
        "# let's plot the random matrix fc that you created above\n",
        "plt.imshow(fc)"
      ]
    },
    {
      "cell_type": "markdown",
      "metadata": {
        "id": "6MdhlUPui1fX"
      },
      "source": [
        "<div class=\"alert alert-block alert-success\">\n",
        "<b>Exercise </b><p>\n",
        "Add to the previous image \"Region Index\" as the x- and y-label. Also add a colorbar (hint: plt.colorbar()). Finally, a title: \"FC\".\n",
        "Show the new image!\n",
        "<p>\n",
        "\n",
        "<p>\n",
        " -End of exercise-\n",
        "    </div>"
      ]
    },
    {
      "cell_type": "code",
      "execution_count": null,
      "metadata": {},
      "outputs": [],
      "source": [
        "# Your code here:"
      ]
    },
    {
      "cell_type": "markdown",
      "metadata": {},
      "source": [
        "<div class=\"alert alert-block alert-success\">\n",
        "<b>Exercise </b><p>\n",
        "\n",
        "- Use NumPy to create a sine wave time series (y = sin(t)) for t values between 0 and 10 with 100 points.\n",
        "\n",
        "\n",
        "- Plot the sine wave with labeled axes and a title.\n",
        "\n",
        "\n",
        "<p>\n",
        "\n",
        "<p>\n",
        " -End of exercise-\n",
        "    </div>\n"
      ]
    },
    {
      "cell_type": "code",
      "execution_count": null,
      "metadata": {},
      "outputs": [],
      "source": [
        "# Your code here:"
      ]
    },
    {
      "cell_type": "markdown",
      "metadata": {},
      "source": [
        "<div class=\"alert alert-block alert-success\">\n",
        "<b>Exercise </b><p>\n",
        "\n",
        "\n",
        "- Generate a sine wave (y = sin(t)) as the base signal.\n",
        "\n",
        "\n",
        "- Add random noise to simulate EEG.\n",
        "\n",
        "\n",
        "- Plot both the clean and noisy signals. You can use plt.subplot() or plt.subplots() to have multiple plots in the same figure. Look up the differences and then choose one of the two options\n",
        "\n",
        "<p>\n",
        "\n",
        "<p>\n",
        " -End of exercise-\n",
        "    </div>\n",
        "\n"
      ]
    },
    {
      "cell_type": "code",
      "execution_count": null,
      "metadata": {},
      "outputs": [],
      "source": [
        "# Your code here:"
      ]
    },
    {
      "cell_type": "markdown",
      "metadata": {
        "id": "cCHZUff1iqeF"
      },
      "source": [
        "## Part 6: Introduction to Pandas\n",
        "\n",
        "Pandas is a library for data manipulation and analysis. You can consider it somewhat similar to working with an Excel spreadsheet. You can use Pandas to analyze Excel spreadsheets and all types of tabular data."
      ]
    },
    {
      "cell_type": "code",
      "execution_count": null,
      "metadata": {
        "id": "kCL4Zj7viraR"
      },
      "outputs": [],
      "source": [
        "import pandas as pd\n",
        "\n",
        "# Creating a DataFrame\n",
        "data = {\n",
        "    \"Name\": [\"Alice\", \"Bob\", \"Julie\", \"Charlie\", \"Jan\"],\n",
        "    \"Age\": [25, 30, 25, 35, 20,],\n",
        "    \"Score\": [85, 90, 95, 90, 95]\n",
        "}\n",
        "df = pd.DataFrame(data)\n",
        "df.head()"
      ]
    },
    {
      "cell_type": "code",
      "execution_count": null,
      "metadata": {
        "id": "ap3MBhy5is3X"
      },
      "outputs": [],
      "source": [
        "# Accessing data\n",
        "print(df[\"Name\"])  # Accessing acolumn"
      ]
    },
    {
      "cell_type": "markdown",
      "metadata": {},
      "source": [
        "You can also select only those rows that satisfy some condition, for example maybe you want to analyze only subjects older that 30:"
      ]
    },
    {
      "cell_type": "code",
      "execution_count": null,
      "metadata": {},
      "outputs": [],
      "source": [
        "df[df[\"Age\"] >= 30]"
      ]
    },
    {
      "cell_type": "markdown",
      "metadata": {},
      "source": [
        "If you just do the above line it won't assign those results to a variable, so df will still be the original one. If you want to create an additional dataframe, you need to assign it to some name."
      ]
    },
    {
      "cell_type": "code",
      "execution_count": null,
      "metadata": {},
      "outputs": [],
      "source": [
        "df_over_30 = df[df[\"Age\"] >= 30]\n",
        "print(df_over_30)"
      ]
    },
    {
      "cell_type": "markdown",
      "metadata": {
        "id": "5U7a3EhXiuTB"
      },
      "source": [
        "Pandas has several handy features allowing you to calculate interesting statistics with very few lines of code. One such example is df.describe()"
      ]
    },
    {
      "cell_type": "code",
      "execution_count": null,
      "metadata": {
        "id": "eJjbHjh4ivbU"
      },
      "outputs": [],
      "source": [
        "df.describe()"
      ]
    },
    {
      "cell_type": "markdown",
      "metadata": {},
      "source": [
        "You can also group by some variable (e.g., Age) and then see descriptive statistics for another variable (e.g., mean score for every age)"
      ]
    },
    {
      "cell_type": "code",
      "execution_count": null,
      "metadata": {},
      "outputs": [],
      "source": [
        "df.groupby(\"Age\")[\"Score\"].mean()"
      ]
    },
    {
      "cell_type": "markdown",
      "metadata": {
        "id": "7jhZCppIiwhd"
      },
      "source": [
        "<div class=\"alert alert-block alert-success\">\n",
        "<b>Exercise </b><p>\n",
        "Try to think about a useful example of how you would use Pandas to analyze neuroimaging data. What would be in the rows? What in the columns?\n",
        "<p>\n",
        "\n",
        "<p>\n",
        " -End of exercise-\n",
        "    </div>"
      ]
    },
    {
      "cell_type": "markdown",
      "metadata": {},
      "source": [
        "Imagine you've conducted a very basic experiment where you measured the reaction time (in milliseconds) of a few participants to a visual stimulus. You also recorded whether the stimulus was presented on the left or right side of the screen."
      ]
    },
    {
      "cell_type": "code",
      "execution_count": null,
      "metadata": {
        "id": "gk-fl_Y-i4b5"
      },
      "outputs": [],
      "source": [
        "data = {'participant_ID': [1, 1, 2, 2, 3, 3],\n",
        "        'stimulus_side': ['Left', 'Right', 'Left', 'Right', 'Left', 'Right'],\n",
        "        'reaction_time_ms': [250, 280, 235, 260, 270, 295]}\n",
        "df = pd.DataFrame(data)\n",
        "print(df)"
      ]
    },
    {
      "cell_type": "markdown",
      "metadata": {},
      "source": [
        "<div class=\"alert alert-block alert-success\">\n",
        "<b>Exercise </b><p>\n",
        "Inspect the DataFrame: Use basic Pandas commands to get a feel for the data:\n",
        "\n",
        "- Print the first few rows\n",
        "- Get some basic information about the DataFrame (number of rows, column names, data types)\n",
        "- Get descriptive statistics (mean, standard deviation, etc.) only for the numerical column:'reaction_time_ms'\n",
        "\n",
        "Try to select specific data:\n",
        "\n",
        "- Select both the 'Participant ID' and 'Reaction Time (ms)' columns (they are two, so a collection of items...)\n",
        "\n",
        "Filter the data:\n",
        "\n",
        "- Find all the reaction times where the stimulus was on the 'Left'\n",
        "- Find all the reaction times for 'participant_ID' == 2\n",
        "\n",
        "Calculate basic statistics (grouped by a column):\n",
        "\n",
        "- Calculate the average reaction time for each stimulus side\n",
        "- Calculate the average reaction time for each participant\n",
        "<p>\n",
        "\n",
        "<p>\n",
        " -End of exercise-\n",
        "    </div>"
      ]
    },
    {
      "cell_type": "markdown",
      "metadata": {
        "id": "JjHXuID-i6Pm"
      },
      "source": [
        "## Bonus: Classes\n",
        "Classes are blueprints for creating objects (instances). A class can contain attributes (variables) and methods (functions) that define the behavior of the objects."
      ]
    },
    {
      "cell_type": "code",
      "execution_count": null,
      "metadata": {},
      "outputs": [],
      "source": [
        "# Define a class named Person\n",
        "class Person:\n",
        "    # Constructor method to initialize the object\n",
        "    def __init__(self, name, age):\n",
        "        self.name = name  # Attribute\n",
        "        self.age = age    # Attribute\n",
        "\n",
        "    # Method to display the person's information\n",
        "    def display_info(self):\n",
        "        return f\"Name: {self.name}, Age: {self.age}\"\n",
        "    \n",
        "    def greet(self):\n",
        "        return f\"Hello, {self.name}! I've been told you are {self.age} years old\"\n",
        "\n",
        "# Create an instance of the Person class\n",
        "person1 = Person(\"Alice\", 30)\n",
        "\n",
        "# Access the attributes\n",
        "print(person1.name)  # Output: Alice\n",
        "print(person1.age)   # Output: 30\n",
        "\n",
        "# Call the method\n",
        "print(person1.display_info())  # Output: Name: Alice, Age: 30\n",
        "print(person1.greet())"
      ]
    },
    {
      "cell_type": "markdown",
      "metadata": {
        "id": "oVSmkgqAi-HT"
      },
      "source": [
        "Breaking It Down\n",
        "\n",
        "Class Definition: class Person:\n",
        "\n",
        "This line defines a new class called Person.\n",
        "\n",
        "Initialization Method: def __init__(self, name, age):\n",
        "\n",
        "This is a special method called a constructor. It runs when you create a new Person object.\n",
        "self refers to the instance of the class (like the specific person you're creating).\n",
        "name and age are parameters you provide when you create a new person.\n",
        "\n",
        "Instance Variables:\n",
        "\n",
        "    self.name = name\n",
        "    self.age = age\n",
        "\n",
        "These lines store the provided name and age in the new Person object."
      ]
    },
    {
      "cell_type": "markdown",
      "metadata": {
        "id": "XnYasZvejAGG"
      },
      "source": [
        "<div class=\"alert alert-block alert-success\">\n",
        "<b>Exercise Bonus </b><p>\n",
        "Create a class called Brain. This class should be initialized to contain a number of brain regions specified by the user (e.g., 1) and\n",
        "the names of these regions, inside a list (e.g., [\"frontal\"]). Modify the previous display_info() function from the Person class, so that it prints the number of brain regions and their names.\n",
        "Create an instance of the Brain class with 3 brain regions/lobes of your choice and their names as a list. Display the results using display_info()\n",
        "<p>\n",
        "\n",
        "<p>\n",
        " -End of exercise-\n",
        "    </div>"
      ]
    }
  ],
  "metadata": {
    "colab": {
      "authorship_tag": "ABX9TyPyxvE1/f3P1HwyVPAHWBjn",
      "include_colab_link": true,
      "provenance": []
    },
    "kernelspec": {
      "display_name": "Python 3",
      "name": "python3"
    },
    "language_info": {
      "codemirror_mode": {
        "name": "ipython",
        "version": 3
      },
      "file_extension": ".py",
      "mimetype": "text/x-python",
      "name": "python",
      "nbconvert_exporter": "python",
      "pygments_lexer": "ipython3",
      "version": "3.11.0"
    }
  },
  "nbformat": 4,
  "nbformat_minor": 0
}
