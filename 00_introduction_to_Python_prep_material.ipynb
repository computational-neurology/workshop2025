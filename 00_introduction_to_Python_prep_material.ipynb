{
  "cells": [
    {
      "cell_type": "markdown",
      "metadata": {
        "colab_type": "text",
        "id": "view-in-github"
      },
      "source": [
        "<a href=\"https://colab.research.google.com/github/computational-neurology/workshop2024/blob/main/00_introduction_to_Python.ipynb\" target=\"_parent\"><img src=\"https://colab.research.google.com/assets/colab-badge.svg\" alt=\"Open In Colab\"/></a>"
      ]
    },
    {
      "cell_type": "markdown",
      "metadata": {
        "id": "o8d-nq83hMMX"
      },
      "source": [
        "# Super crash course in Python"
      ]
    },
    {
      "cell_type": "code",
      "execution_count": null,
      "metadata": {
        "id": "5RkVng7xhYG7"
      },
      "outputs": [],
      "source": [
        "! pip install numpy\n",
        "! pip install pandas\n",
        "! pip install matplotlib"
      ]
    },
    {
      "cell_type": "markdown",
      "metadata": {},
      "source": [
        "# A preliminary note on the use of LLMs"
      ]
    },
    {
      "cell_type": "markdown",
      "metadata": {},
      "source": [
        "All the exercises are ungraded and are just there for you to try things out and learn. You can of course copy/paste them into an LLM and solve them, but it won't be helpful for you at this stage. You can of course ask LLM to explain in greater depths specific commands, but still try to write them yourself in the exercises! LLMs will become useful to write code during your programming journey, but you first need to understand the core concepts of Python, which will take quite some time! So, please try the exercises and make as many mistakes as possible! The cool thing about programming is that you can just try things out until they work, which you can see immediately!"
      ]
    },
    {
      "cell_type": "markdown",
      "metadata": {
        "id": "QHtdJFp8hckV"
      },
      "source": [
        "## Part 0: Introduction to Jupyter Notebooks\n",
        "\n",
        "### What is a Jupyter Notebook?\n",
        "A Jupyter Notebook is an open-source web application that allows you to create and share documents that contain live code, equations, visualizations, and narrative text. It's a great tool for data analysis, scientific research, and learning to code.\n",
        "\n",
        "### Types of Cells\n",
        "There are mainly two types of cells in Jupyter Notebooks:\n",
        "1. **Code cells**: These cells contain code that can be executed.\n",
        "2. **Markdown cells**: These cells contain text formatted using Markdown, a lightweight markup language that allows you to format the text in various ways.\n",
        "\n",
        "### Creating and Running Cells\n",
        "\n",
        "- **Creating a Code Cell**: To create a new code cell, click on the \"+\" button in the toolbar or use the keyboard shortcut `B` to insert a cell below the current cell. Type your code in the new cell and press `Shift + Enter` to run it.\n",
        "- **Creating a Markdown Cell**: To create a markdown cell, first create a new cell as above, then use the keyboard shortcut `M` to change a cell to markdown. Type your text using Markdown syntax and press `Shift + Enter` to render it.\n",
        "\n",
        "### Adding Cells Above and Below\n",
        "- **Add Cell Below**: Click the \"+\" button in the toolbar or press `B`.\n",
        "- **Add Cell Above**: Press `A`.\n",
        "\n",
        "### What is Markdown?\n",
        "Markdown is a lightweight markup language that you can use to add formatting elements to plaintext text documents. Markdown is used to format text in Jupyter Notebooks.\n",
        "\n",
        "Here are some basic Markdown examples:\n",
        "- **Headings**: Create headings by starting a line with one (for H1), two (for H2), or more `#` characters, followed by a space.\n",
        "- **Bold and Italics**: Use `**` or `__` for **bold** text and `*` or `_` for *italic* text.\n",
        "- **Lists**: Create bullet lists using `*`, `+`, or `-`, followed by a space. Create numbered lists using numbers followed by a period.\n",
        "- **Links**: Create links using `[link text](URL)`."
      ]
    },
    {
      "cell_type": "markdown",
      "metadata": {},
      "source": [
        "This is **the** *link* **to** the [Intro on Colab video](https://www.youtube.com/watch?v=RLYoEyIHL6A) and this is the *link* to the [Python Tutorial](https://docs.python.org/3/tutorial/) that we have shared with you by email!"
      ]
    },
    {
      "cell_type": "markdown",
      "metadata": {
        "id": "I0jP4qvyhhAf"
      },
      "source": [
        "Example:\n",
        "# This is an H1 heading\n",
        "## This is an H2 heading\n",
        "\n",
        "**This text is bold**\n",
        "\n",
        "*This text is italic*\n",
        "- This is a list item\n",
        "1. This is a numbered list item\n",
        "\n",
        "[This is another link](https://pubmed.ncbi.nlm.nih.gov/)"
      ]
    },
    {
      "cell_type": "markdown",
      "metadata": {
        "id": "BeOMHDFrhjfL"
      },
      "source": [
        "<div class=\"alert alert-block alert-success\">\n",
        "<b>Exercise </b><p>\n",
        "Create a new markdown cell below this one. Try to create a H1 heading with a title of this course: \"Computational Neurology workshop\" <p>\n",
        "Then, write one word of your choice in bold and one in italic and write the Github link for the course.\n",
        "\n",
        "<p>\n",
        " -End of exercise-\n",
        "    </div>"
      ]
    },
    {
      "cell_type": "markdown",
      "metadata": {
        "id": "pgqzFZbohls-"
      },
      "source": [
        "## Part 1: Basics of Python\n",
        "\n",
        "### Print Function\n",
        "The print function is used to display output in Python."
      ]
    },
    {
      "cell_type": "code",
      "execution_count": null,
      "metadata": {
        "id": "LeugaFnNhnE6"
      },
      "outputs": [],
      "source": [
        "print(\"How cool is Python?!?\")"
      ]
    },
    {
      "cell_type": "markdown",
      "metadata": {
        "id": "_9_dIN41hoaB"
      },
      "source": [
        "<div class=\"alert alert-block alert-success\">\n",
        "<b>Exercise </b><p>\n",
        "Your turn! First, create a code cell below this one, then use print() to display the name of your favorite brain region. If you don't have one, just print \"The whole brain!\" <p>\n",
        "\n",
        "<p>\n",
        " -End of exercise-\n",
        "    </div>"
      ]
    },
    {
      "cell_type": "markdown",
      "metadata": {},
      "source": [
        "### Comments\n",
        "In code cells you can use comments. Comments are normal not-programming sentences you usually write for yourself/your users in order to document/explain things. To write a comment just type # followed by what you want to write. These comments will be disregarded by the machine. "
      ]
    },
    {
      "cell_type": "code",
      "execution_count": 32,
      "metadata": {},
      "outputs": [],
      "source": [
        "# this is a comment that the compiler will not care about, but you could write something useful like this!"
      ]
    },
    {
      "cell_type": "markdown",
      "metadata": {},
      "source": [
        "if you write the same in a code cell without # before, it will throw an error"
      ]
    },
    {
      "cell_type": "code",
      "execution_count": null,
      "metadata": {},
      "outputs": [],
      "source": [
        "this is a comment that will throw an error"
      ]
    },
    {
      "cell_type": "markdown",
      "metadata": {},
      "source": [
        "Comment the line above."
      ]
    },
    {
      "cell_type": "markdown",
      "metadata": {
        "id": "_mi2ntFUhpvO"
      },
      "source": [
        "### Variables\n",
        "Variables are used to store information. You can create a variable by simply assigning a value to a name."
      ]
    },
    {
      "cell_type": "code",
      "execution_count": null,
      "metadata": {
        "id": "iCan_9V8hq2g"
      },
      "outputs": [],
      "source": [
        "x = 5\n",
        "y = \"You are learning Python!\" # this is also a way to comment, after your code\n",
        "print(x)\n",
        "print(y)"
      ]
    },
    {
      "cell_type": "markdown",
      "metadata": {
        "id": "r8TrDG5thsHL"
      },
      "source": [
        "You can combine print and variables to print the value of the variable with f-strings."
      ]
    },
    {
      "cell_type": "code",
      "execution_count": null,
      "metadata": {
        "id": "vEE-I8Oxhubx"
      },
      "outputs": [],
      "source": [
        "print(f\"The value of the variable x is {x}\") # add an f before the \"\" and put your variable into {} to access its value"
      ]
    },
    {
      "cell_type": "markdown",
      "metadata": {
        "id": "yhKX_pFbhv4-"
      },
      "source": [
        "<div class=\"alert alert-block alert-success\">\n",
        "<b>Exercise </b><p>\n",
        "Create a code cell below this one, then create a variable called n_brain_regions and set its value equal to 90.\n",
        "After this, print the value of the variable (doing print(90) is not allowed ;) )<p>\n",
        "\n",
        "<p>\n",
        " -End of exercise-\n",
        "    </div>"
      ]
    },
    {
      "cell_type": "markdown",
      "metadata": {
        "id": "NjgyVyfKhxXr"
      },
      "source": [
        "### Data Types\n",
        "Python has various data types including integers, floats, strings, and booleans."
      ]
    },
    {
      "cell_type": "code",
      "execution_count": null,
      "metadata": {
        "id": "TTs6CD7Bhyk6"
      },
      "outputs": [],
      "source": [
        "a = 5        # integer\n",
        "b = 20.5     # float\n",
        "c = \"Brain\"  # string\n",
        "d = False     # boolean, useful for if conditions for example: if something is True, then do some calculations...\n",
        "\n",
        "print(type(a))\n",
        "print(type(b))\n",
        "print(type(c))\n",
        "print(type(d))"
      ]
    },
    {
      "cell_type": "markdown",
      "metadata": {},
      "source": [
        "You can perform several types of operations here. We will see them later in greater detail.\n",
        "Try to guess what these will do before running them and then see if you were right!"
      ]
    },
    {
      "cell_type": "code",
      "execution_count": null,
      "metadata": {},
      "outputs": [],
      "source": [
        "x = a + b\n",
        "print(x + a)"
      ]
    },
    {
      "cell_type": "code",
      "execution_count": null,
      "metadata": {},
      "outputs": [],
      "source": [
        "for i in range(a):\n",
        "    if not d and x > 30:\n",
        "        print(c)\n",
        "    elif not d and x < 30:\n",
        "        print(\"Heart\")"
      ]
    },
    {
      "cell_type": "markdown",
      "metadata": {
        "id": "meL9KkUch2sz"
      },
      "source": [
        "## Part 2: Data Structures"
      ]
    },
    {
      "cell_type": "markdown",
      "metadata": {
        "id": "ehU_KAcgh3-f"
      },
      "source": [
        "### Lists\n",
        "Lists are ordered collections of items. They are mutable, which means you can change their content."
      ]
    },
    {
      "cell_type": "code",
      "execution_count": null,
      "metadata": {
        "id": "X4B-zhV-h5Ix"
      },
      "outputs": [],
      "source": [
        "# Creating a list\n",
        "my_list = [1, 2, 3, 4, 5]\n",
        "print(my_list)"
      ]
    },
    {
      "cell_type": "code",
      "execution_count": null,
      "metadata": {
        "id": "_PqQuV5vh6KW"
      },
      "outputs": [],
      "source": [
        "# Accessing elements. The elements' count starts from 0! So you go from 0 to n-1 elements for a n-sized list! This is important to remember!\n",
        "print(my_list[0])  # First element\n",
        "print(my_list[-1])  # Last element"
      ]
    },
    {
      "cell_type": "code",
      "execution_count": null,
      "metadata": {
        "id": "ih8CPLuth7KR"
      },
      "outputs": [],
      "source": [
        "# Add an element at the end of the list\n",
        "my_list.append(6)"
      ]
    },
    {
      "cell_type": "code",
      "execution_count": null,
      "metadata": {
        "id": "a5-6Xahoh8O0"
      },
      "outputs": [],
      "source": [
        "# Modifying elements\n",
        "my_list[0] = 10\n",
        "print(my_list)"
      ]
    },
    {
      "cell_type": "markdown",
      "metadata": {
        "id": "BDSrJFeFh9nR"
      },
      "source": [
        "<div class=\"alert alert-block alert-success\">\n",
        "<b>Exercise </b><p>\n",
        "Your turn! Write a list of three cities you have been to / would like to go to. Print the first city of the list using list[index].\n",
        "Then look on the internet/ask an LLM how to remove elements from a list and try it.\n",
        "<p>\n",
        "\n",
        "\n",
        "\n",
        "<p>\n",
        " -End of exercise-\n",
        "    </div>\n"
      ]
    },
    {
      "cell_type": "code",
      "execution_count": null,
      "metadata": {
        "id": "ybtIDNhMh-tj"
      },
      "outputs": [],
      "source": [
        "# Your code here, uncomment, write the code and run!\n",
        "# cities = ...\n",
        "# print(...)  # Print the first city\n",
        "# remove the 2 list and re-print"
      ]
    },
    {
      "cell_type": "markdown",
      "metadata": {
        "id": "zAzzBk6-iAOc"
      },
      "source": [
        "<div class=\"alert alert-block alert-success\">\n",
        "<b>Exercise Bonus </b><p>\n",
        "Use the same cities list that you created before and add another city to the same list. Then, print the whole list.\n",
        "<p>\n",
        "\n",
        "<p>\n",
        " -End of exercise-\n",
        "    </div>\n"
      ]
    },
    {
      "cell_type": "code",
      "execution_count": null,
      "metadata": {
        "id": "IVHFUPn_iBlZ"
      },
      "outputs": [],
      "source": [
        "# cities.???()  # Adding a new city\n",
        "#   # Printing the entire list"
      ]
    },
    {
      "cell_type": "markdown",
      "metadata": {
        "id": "_8-inScziCzU"
      },
      "source": [
        "### Tuples\n",
        "Tuples are ordered collections of items, but unlike lists, they are immutable."
      ]
    },
    {
      "cell_type": "code",
      "execution_count": null,
      "metadata": {
        "id": "Y-7Slo-jiDu6"
      },
      "outputs": [],
      "source": [
        "# Creating a tuple\n",
        "my_tuple = (1, 2, 3, 4, 5)\n",
        "print(my_tuple)\n",
        "\n",
        "# Accessing elements\n",
        "print(my_tuple[0])  # First element\n",
        "print(my_tuple[-1])  # Last element"
      ]
    },
    {
      "cell_type": "markdown",
      "metadata": {
        "id": "NOdITjsyiE3l"
      },
      "source": [
        "Since they are immutable, you can't assign a new value to the tuple using indexing and this will lead to an error."
      ]
    },
    {
      "cell_type": "code",
      "execution_count": null,
      "metadata": {
        "id": "ljVFTCV0iGKj"
      },
      "outputs": [],
      "source": [
        "# Uncomment and run to see the error\n",
        "# my_tuple[0] = 2"
      ]
    },
    {
      "cell_type": "markdown",
      "metadata": {
        "id": "B4HojJ0biH1v"
      },
      "source": [
        "### Dictionaries\n",
        "Dictionaries are unordered collections of key-value pairs. Keys are unique and immutable."
      ]
    },
    {
      "cell_type": "code",
      "execution_count": null,
      "metadata": {
        "id": "yHkRwI-PiI1_"
      },
      "outputs": [],
      "source": [
        "# Creating a dictionary\n",
        "my_dict = {\"name\": \"Alice\", \"age\": 25, \"subject\": \"Neuroscience\"}\n",
        "print(my_dict)"
      ]
    },
    {
      "cell_type": "code",
      "execution_count": null,
      "metadata": {
        "id": "M-xMVgWciJs-"
      },
      "outputs": [],
      "source": [
        "# Accessing values\n",
        "print(my_dict[\"name\"])  # Value associated with key 'name'"
      ]
    },
    {
      "cell_type": "code",
      "execution_count": null,
      "metadata": {
        "id": "B3CeqGgciLC9"
      },
      "outputs": [],
      "source": [
        "# Modifying values\n",
        "my_dict[\"age\"] = 26\n",
        "print(my_dict)"
      ]
    },
    {
      "cell_type": "markdown",
      "metadata": {
        "id": "twORF7ejiMO-"
      },
      "source": [
        "<div class=\"alert alert-block alert-success\">\n",
        "<b>Exercise </b><p>\n",
        "Use the following code cell to create a dictionary containing the keys: title, author and an example for a book you like.\n",
        "<p>\n",
        "\n",
        "<p>\n",
        " -End of exercise-\n",
        "    </div>"
      ]
    },
    {
      "cell_type": "code",
      "execution_count": null,
      "metadata": {
        "id": "vCDaOWNUiNW0"
      },
      "outputs": [],
      "source": [
        "## Remember dict = {key: value}\n",
        "## Uncomment the following, create your dictionary and run\n",
        "\n",
        "# dict_book = {...}\n",
        "# print(dict_book[\"title\"])  # Print the title of the book\n",
        "# print(dict_book[\"author\"])  # Print the Author of the book\n",
        "# print(...)  # Print the entire dictionary"
      ]
    },
    {
      "cell_type": "markdown",
      "metadata": {},
      "source": [
        "Now look up how to get the the keys and values or both from your dictionary. Why do you think these commands could be useful?"
      ]
    },
    {
      "cell_type": "markdown",
      "metadata": {},
      "source": [
        "## Part 3 Conditional statements and for loops"
      ]
    },
    {
      "cell_type": "markdown",
      "metadata": {},
      "source": [
        "Conditional statements are used when you want to run some code only if some condition is fulfilled. You can think about using this to run pieces of code only on some regions of the brain, while running another block on some other regions. In Python you run this conditional statements as if/elif/else:"
      ]
    },
    {
      "cell_type": "code",
      "execution_count": null,
      "metadata": {},
      "outputs": [],
      "source": [
        "# if something is True, then do A, otherwise do B:\n",
        "a = 2\n",
        "\n",
        "if a < 4:\n",
        "    print(f\"{a} is less than four!\")\n",
        "else:\n",
        "    print(f\"{a} is greater than four!\")"
      ]
    },
    {
      "cell_type": "markdown",
      "metadata": {},
      "source": [
        "What if a is 4?"
      ]
    },
    {
      "cell_type": "code",
      "execution_count": null,
      "metadata": {},
      "outputs": [],
      "source": [
        "if a < 4:\n",
        "    print(f\"{a} is less than four!\") # if a is less than 4 print this line.\n",
        "elif a == 4:\n",
        "    print(f\"{a} is exactly four!\") # else if a is exactly 4 print this line.\n",
        "else:\n",
        "    print(f\"{a} is greater than four!\") # else (in all other occasions) print this line. "
      ]
    },
    {
      "cell_type": "markdown",
      "metadata": {},
      "source": [
        "<div class=\"alert alert-block alert-success\">\n",
        "<b>Exercise </b><p>\n",
        "In the previous cells, play around with a to see what changes\n",
        "<p>\n",
        "\n",
        "<p>\n",
        " -End of exercise-\n",
        "    </div>"
      ]
    },
    {
      "cell_type": "markdown",
      "metadata": {},
      "source": [
        "What is a 'for' loop? A 'for' loop lets us iterate over a sequence (like a list) and perform an action for each item in the sequence."
      ]
    },
    {
      "cell_type": "code",
      "execution_count": null,
      "metadata": {},
      "outputs": [],
      "source": [
        "# Example:\n",
        "brain_structures = [\"white matter\", \"gray matter\", \"ventricles\"]\n",
        "for ba in brain_structures:\n",
        "    print(\"The brain contains\", ba)  # This prints each brain structure"
      ]
    },
    {
      "cell_type": "markdown",
      "metadata": {},
      "source": [
        "<div class=\"alert alert-block alert-success\">\n",
        "<b>Exercise </b><p>\n",
        "\n",
        "1. Create a list called 'brain_regions' with the following regions:\n",
        "   \"Hippocampus\", \"Amygdala\", \"Thalamus\", \"Cortex\", \"Cerebellum\"\n",
        "\n",
        "2. Write a for loop to go through each brain region and print its name.\n",
        "\n",
        "3. Add an if/else statement inside the loop:\n",
        "   - If the region is \"Hippocampus\", print \"Hippocampus is important for memory!\"\n",
        "   - Otherwise, just print the region name.\n",
        "   \n",
        "<p>\n",
        "\n",
        "<p>\n",
        " -End of exercise-\n",
        "    </div>"
      ]
    },
    {
      "cell_type": "markdown",
      "metadata": {},
      "source": [
        "## Part 4: Using Python Packages\n",
        "In Python, a package is a way to organize and distribute a collection of modules. A module is simply a file containing Python code that defines functions, classes, or variables, which can be reused in different programs. A package allows you to bundle multiple modules together, making it easier to manage and use code libraries.\n",
        "\n",
        "Think of a package as a toolbox, and each module within it as a specific tool. For example, if you have a toolbox for analyzing brain imaging data, one module might contain functions for reading data files, another for processing the data, and another for visualizing the results.\n",
        "To use a package, you should first install it (here everything is already pre-installed, so you don't have to do it).\n",
        "Then, you simply import the package using the package name. It is useful to give short names to packages so that you have to write less code.\n",
        "\n",
        "Common widely used names are: numpy → np; pandas → pd; matplotlib.pyplot → plt; (see later)\n"
      ]
    },
    {
      "cell_type": "code",
      "execution_count": null,
      "metadata": {},
      "outputs": [],
      "source": [
        "import numpy as np\n",
        "import pandas as pd\n",
        "import matplotlib.pyplot as plt"
      ]
    },
    {
      "cell_type": "markdown",
      "metadata": {},
      "source": [
        "<div class=\"alert alert-block alert-success\">\n",
        "<b>Exercise </b><p>\n",
        "\n",
        "Look up what numpy and matplotlib are used for.\n",
        "\n",
        "Can you think about some uses of numpy in neuroscience research?\n",
        "\n",
        "Try to think about some plot that you would like to do regarding one of your interests. For example, I really like football, so I would like to plot a bar chart of the top-scorers of the Italian national first league (Serie A). Can matplotlib do it?\n",
        "\n",
        "What about Pandas? Do you see any use in having a package that helps you in manipulating spreadsheets? Can you think about some example in neuroscience where you would need to manipulate spreadsheets?\n",
        "   \n",
        "<p>\n",
        "\n",
        "<p>\n",
        " -End of exercise-\n",
        "    </div>"
      ]
    }
  ],
  "metadata": {
    "colab": {
      "authorship_tag": "ABX9TyPyxvE1/f3P1HwyVPAHWBjn",
      "include_colab_link": true,
      "provenance": []
    },
    "kernelspec": {
      "display_name": "Python 3",
      "name": "python3"
    },
    "language_info": {
      "codemirror_mode": {
        "name": "ipython",
        "version": 3
      },
      "file_extension": ".py",
      "mimetype": "text/x-python",
      "name": "python",
      "nbconvert_exporter": "python",
      "pygments_lexer": "ipython3",
      "version": "3.11.0"
    }
  },
  "nbformat": 4,
  "nbformat_minor": 0
}
