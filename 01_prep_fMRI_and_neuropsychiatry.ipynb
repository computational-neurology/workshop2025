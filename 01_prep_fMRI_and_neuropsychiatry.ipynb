{
  "cells": [
    {
      "cell_type": "markdown",
      "metadata": {
        "colab_type": "text",
        "id": "view-in-github"
      },
      "source": [
        "<a href=\"https://colab.research.google.com/github/computational-neurology/workshop2024/blob/main/00_introduction_to_Python.ipynb\" target=\"_parent\"><img src=\"https://colab.research.google.com/assets/colab-badge.svg\" alt=\"Open In Colab\"/></a>"
      ]
    },
    {
      "cell_type": "markdown",
      "metadata": {
        "id": "uqqrWtRcrriv"
      },
      "source": [
        "# Preparatory exercises: Introduction to fMRI, neuroanatomy, and neuropsychiatry\n",
        "\n",
        "To understand the human brain, we need to analyze its signals. As the brain is hidden within the skull, there is a limited amount of methods available to extract brain signals (in the living human). We will learn mostly about fMRI here."
      ]
    },
    {
      "cell_type": "markdown",
      "metadata": {
        "id": "rq7mQ6Hkrri5"
      },
      "source": [
        "<div class=\"alert alert-block alert-success\">\n",
        "<b>Exercise 1 </b><p>\n",
        "Before we start with parcellating the fMRI data and looking at the time series of each parcel, we need to prepare the data for the analysis. What do we need to do with the fMRI data before we can do the analysis?<p>\n",
        "\n",
        "Please work alone. Please look up preprocessing steps here: https://dartbrains.org/content/Preprocessing.html. Then go to the quiz below and match the pictures to the preprocessing terms. If you struggle, please consult your group members.\n",
        "    \n",
        "Link to exercise:    \n",
        "https://studio.frameworkconsulting.com/activity/65073/shared\n",
        "\n",
        "    \n",
        "<p>\n",
        " -End of exercise-\n",
        "    </div>"
      ]
    },
    {
      "cell_type": "markdown",
      "metadata": {
        "id": "xr50EUSgrri5"
      },
      "source": [
        "## Key points!\n",
        "\n",
        "- Any neuroimaging data is dirty and needs to be cleaned, aligned, and transformed before being analyzed.\n",
        "- There are standards in place which will allow you to effortlessly pull the data that you need for analysis.\n",
        "- If you plan to work with time series data, you usually need to apply a parcellation to group similar brain areas together."
      ]
    },
    {
      "cell_type": "markdown",
      "metadata": {
        "id": "p1x0zul9rrjN"
      },
      "source": [
        "## Neuroanatomy Basics\n",
        "<div class=\"alert alert-block alert-success\">\n",
        "<b>Exercise 2: Neuroanatomy</b><p>\n",
        "    \n",
        "Please read the following reference:\n",
        " https://ecampusontario.pressbooks.pub/testbookje/chapter/the-brain/\n",
        "    \n",
        "1. What are the names of the four main lobes of the brain? INSERT ANSWER\n",
        "2. What is inside gray matter? INSERT ANSWER\n",
        "3. What is inside white matter? INSERT ANSWER\n",
        "4. What connects the left and right part of the brain? INSERT ANSWER\n",
        "5. What is the cerebellum and where is it located? INSERT ANSWER\n",
        "    \n",
        "Please also assign the correct labels to the brain lobes:\n",
        "    https://studio.frameworkconsulting.com/activity/65137/shared"
      ]
    },
    {
      "cell_type": "markdown",
      "metadata": {
        "id": "-ZarGSxyrrjN"
      },
      "source": [
        "<div class=\"alert alert-block alert-success\">\n",
        "<b>Exercise 3: Brain Quiz</b><p>\n",
        "\n",
        "https://www.britannica.com/quiz/the-human-brain\n",
        "    \n",
        "</div>"
      ]
    },
    {
      "cell_type": "markdown",
      "metadata": {
        "id": "AmQ7jy75rrjN"
      },
      "source": [
        "## More information/additional reading material on fMRI analysis:\n",
        "\n",
        "https://andysbrainbook.readthedocs.io/en/latest/\n",
        "\n",
        "https://nilearn.github.io/user_guide.html"
      ]
    }
  ],
  "metadata": {
    "kernelspec": {
      "display_name": "Python 3",
      "language": "python",
      "name": "python3"
    },
    "language_info": {
      "codemirror_mode": {
        "name": "ipython",
        "version": 3
      },
      "file_extension": ".py",
      "mimetype": "text/x-python",
      "name": "python",
      "nbconvert_exporter": "python",
      "pygments_lexer": "ipython3",
      "version": "3.6.4"
    },
    "colab": {
      "provenance": []
    }
  },
  "nbformat": 4,
  "nbformat_minor": 0
}
